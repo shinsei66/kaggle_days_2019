{
 "cells": [
  {
   "cell_type": "markdown",
   "metadata": {},
   "source": [
    "Kaggle days offline competition was hold during 10:30 - 18:30 12th Dec 2019\n",
    "Following is my solution code for 77 th place / 88 teams\n",
    "\n",
    "https://www.kaggle.com/c/kaggle-days-tokyo/overview"
   ]
  },
  {
   "cell_type": "markdown",
   "metadata": {},
   "source": [
    "# Import Libraries"
   ]
  },
  {
   "cell_type": "code",
   "execution_count": 936,
   "metadata": {},
   "outputs": [],
   "source": [
    "import gc\n",
    "import os,csv\n",
    "import logging\n",
    "import pickle\n",
    "from datetime import datetime\n",
    "import warnings\n",
    "import numpy as np\n",
    "import random\n",
    "import pandas as pd\n",
    "import seaborn as sns\n",
    "import lightgbm as lgb\n",
    "import xgboost as xgb\n",
    "import rgf\n",
    "from tqdm import tqdm_notebook\n",
    "import matplotlib.pyplot as plt\n",
    "from sklearn.metrics import mean_squared_error\n",
    "from sklearn.metrics import roc_auc_score, roc_curve\n",
    "from sklearn.linear_model import BayesianRidge\n",
    "from sklearn.model_selection import StratifiedKFold, KFold,RepeatedKFold\n",
    "warnings.filterwarnings('ignore')\n",
    "import time\n",
    "pd.set_option('display.max_rows', 500)\n",
    "pd.set_option('display.max_columns', 500)\n",
    "from pandas.api.types import is_datetime64_any_dtype as is_datetime\n",
    "from pandas.api.types import is_categorical_dtype"
   ]
  },
  {
   "cell_type": "code",
   "execution_count": 363,
   "metadata": {},
   "outputs": [],
   "source": [
    "def reduce_mem_usage(df, use_float16=False):\n",
    "    \"\"\" iterate through all the columns of a dataframe and modify the data type\n",
    "        to reduce memory usage.        \n",
    "    \"\"\"\n",
    "    start_mem = df.memory_usage().sum() / 1024**2\n",
    "    print('Memory usage of dataframe is {:.2f} MB'.format(start_mem))\n",
    "    for col in df.columns:\n",
    "        if is_datetime(df[col]) or is_categorical_dtype(df[col]):\n",
    "            # skip datetime type or categorical type\n",
    "            continue\n",
    "        col_type = df[col].dtype\n",
    "        if col_type != object:\n",
    "            c_min = df[col].min()\n",
    "            c_max = df[col].max()\n",
    "            if str(col_type)[:3] == 'int':\n",
    "                if c_min > np.iinfo(np.int8).min and c_max < np.iinfo(np.int8).max:\n",
    "                    df[col] = df[col].astype(np.int8)\n",
    "                elif c_min > np.iinfo(np.int16).min and c_max < np.iinfo(np.int16).max:\n",
    "                    df[col] = df[col].astype(np.int16)\n",
    "                elif c_min > np.iinfo(np.int32).min and c_max < np.iinfo(np.int32).max:\n",
    "                    df[col] = df[col].astype(np.int32)\n",
    "                elif c_min > np.iinfo(np.int64).min and c_max < np.iinfo(np.int64).max:\n",
    "                    df[col] = df[col].astype(np.int64)  \n",
    "            else:\n",
    "                if use_float16 and c_min > np.finfo(np.float16).min and c_max < np.finfo(np.float16).max:\n",
    "                    df[col] = df[col].astype(np.float16)\n",
    "                elif c_min > np.finfo(np.float32).min and c_max < np.finfo(np.float32).max:\n",
    "                    df[col] = df[col].astype(np.float32)\n",
    "                else:\n",
    "                    df[col] = df[col].astype(np.float64)\n",
    "        else:\n",
    "            df[col] = df[col].astype('category')\n",
    "    end_mem = df.memory_usage().sum() / 1024**2\n",
    "    print('Memory usage after optimization is: {:.2f} MB'.format(end_mem))\n",
    "    print('Decreased by {:.1f}%'.format(100 * (start_mem - end_mem) / start_mem))\n",
    "    return df"
   ]
  },
  {
   "cell_type": "code",
   "execution_count": 369,
   "metadata": {},
   "outputs": [],
   "source": [
    "def change_times(df):\n",
    "    df[\"datetime\"] = pd.to_datetime(df[\"ts\"])\n",
    "    df[\"weekday\"]     = df[\"datetime\"].dt.dayofweek\n",
    "    df['hour']        = df[\"datetime\"].dt.hour\n",
    "    df.loc[df.hour<12, \"hourinday\"] = 0 #Morning\n",
    "    df.loc[(df.hour>12)&(df.hour<=18), \"hourinday\"] = 1 #Afternoon\n",
    "    df.loc[(df.hour>18)&(df.hour<=23), \"hourinday\"]  = 2 #Night\n",
    "    return df"
   ]
  },
  {
   "cell_type": "markdown",
   "metadata": {},
   "source": [
    "# Import Data"
   ]
  },
  {
   "cell_type": "code",
   "execution_count": 701,
   "metadata": {},
   "outputs": [
    {
     "data": {
      "text/plain": [
       "['kaggle-days-tokyo.zip',\n",
       " 'test.csv',\n",
       " 'sample_submission.csv',\n",
       " 'train.csv',\n",
       " '.ipynb_checkpoints',\n",
       " 'kiji_metadata.csv']"
      ]
     },
     "execution_count": 701,
     "metadata": {},
     "output_type": "execute_result"
    }
   ],
   "source": [
    "PATH = '../input'\n",
    "SUBPATH = '../submission'\n",
    "target = 'age'\n",
    "os.listdir(PATH)\n"
   ]
  },
  {
   "cell_type": "code",
   "execution_count": 925,
   "metadata": {},
   "outputs": [
    {
     "name": "stdout",
     "output_type": "stream",
     "text": [
      "CPU times: user 4.72 s, sys: 272 ms, total: 4.99 s\n",
      "Wall time: 3.83 s\n"
     ]
    }
   ],
   "source": [
    "%%time\n",
    "train_df = pd.read_csv(f'{PATH}/train.csv')\n",
    "test_df = pd.read_csv(f'{PATH}/test.csv')\n",
    "kiji_df = pd.read_csv(f'{PATH}/kiji_metadata.csv')\n",
    "sub_df = pd.read_csv(f'{PATH}/sample_submission.csv')"
   ]
  },
  {
   "cell_type": "code",
   "execution_count": 703,
   "metadata": {},
   "outputs": [
    {
     "data": {
      "text/plain": [
       "array(['paper', 'news', nan], dtype=object)"
      ]
     },
     "execution_count": 703,
     "metadata": {},
     "output_type": "execute_result"
    }
   ],
   "source": [
    "kiji_df.service_category.unique()"
   ]
  },
  {
   "cell_type": "code",
   "execution_count": 704,
   "metadata": {},
   "outputs": [
    {
     "data": {
      "text/plain": [
       "26549"
      ]
     },
     "execution_count": 704,
     "metadata": {},
     "output_type": "execute_result"
    }
   ],
   "source": [
    "len(kiji_df.kiji_id_raw.unique())"
   ]
  },
  {
   "cell_type": "code",
   "execution_count": 758,
   "metadata": {},
   "outputs": [],
   "source": [
    "kiji_df['service_category'] = kiji_df['service_category'].fillna('null')\n",
    "kiji_df['moji_count'] = kiji_df['moji_count'].fillna(kiji_df['moji_count'].mean())"
   ]
  },
  {
   "cell_type": "code",
   "execution_count": 759,
   "metadata": {},
   "outputs": [
    {
     "data": {
      "text/plain": [
       "Index(['age', 'kiji_id', 'user_id', 'ts', 'ig_ctx_red_viewed_percent',\n",
       "       'ig_ctx_red_elapsed_since_page_load', 'er_geo_bc_flag',\n",
       "       'ig_ctx_product', 'er_geo_pref_j_name', 'er_geo_city_j_name',\n",
       "       'er_geo_country_code', 'er_dev_browser_family',\n",
       "       'er_dev_browser_version', 'er_dev_device_name', 'er_dev_device_type',\n",
       "       'er_dev_manufacture', 'er_dev_os_family', 'er_dev_os_version',\n",
       "       'er_rfs_reffered_visit', 'er_rfs_service_name', 'er_rfs_service_type',\n",
       "       'er_rfc_kiji_id_raw', 'ig_usr_connection'],\n",
       "      dtype='object')"
      ]
     },
     "execution_count": 759,
     "metadata": {},
     "output_type": "execute_result"
    }
   ],
   "source": [
    "train_df.columns"
   ]
  },
  {
   "cell_type": "code",
   "execution_count": 707,
   "metadata": {},
   "outputs": [
    {
     "data": {
      "text/plain": [
       "kiji_id_raw              0\n",
       "display_time            18\n",
       "service_category         0\n",
       "title                   18\n",
       "title2               21452\n",
       "title3               22607\n",
       "genres                  18\n",
       "belong_topic_info       18\n",
       "keywords                18\n",
       "body                    18\n",
       "moji_count               0\n",
       "dtype: int64"
      ]
     },
     "execution_count": 707,
     "metadata": {},
     "output_type": "execute_result"
    }
   ],
   "source": [
    "kiji_df.isnull().sum()"
   ]
  },
  {
   "cell_type": "code",
   "execution_count": 760,
   "metadata": {},
   "outputs": [
    {
     "name": "stdout",
     "output_type": "stream",
     "text": [
      "CPU times: user 1.46 s, sys: 176 ms, total: 1.64 s\n",
      "Wall time: 957 ms\n"
     ]
    }
   ],
   "source": [
    "%%time\n",
    "train_df = pd.merge(train_df, kiji_df[['kiji_id_raw','service_category', 'moji_count','title']], left_on = 'kiji_id', right_on = 'kiji_id_raw', how = 'left')\n",
    "test_df = pd.merge(test_df, kiji_df[['kiji_id_raw','service_category', 'moji_count','title']],left_on = 'kiji_id', right_on = 'kiji_id_raw', how = 'left')"
   ]
  },
  {
   "cell_type": "code",
   "execution_count": 709,
   "metadata": {},
   "outputs": [
    {
     "data": {
      "text/plain": [
       "age                                        0\n",
       "kiji_id                                    0\n",
       "user_id                                    0\n",
       "ts                                         0\n",
       "ig_ctx_red_viewed_percent              94058\n",
       "ig_ctx_red_elapsed_since_page_load     89809\n",
       "er_geo_bc_flag                             0\n",
       "ig_ctx_product                             0\n",
       "er_geo_pref_j_name                    214018\n",
       "er_geo_city_j_name                    214018\n",
       "er_geo_country_code                   193133\n",
       "er_dev_browser_family                 366079\n",
       "er_dev_browser_version                366666\n",
       "er_dev_device_name                     79625\n",
       "er_dev_device_type                         0\n",
       "er_dev_manufacture                    192937\n",
       "er_dev_os_family                           0\n",
       "er_dev_os_version                       6471\n",
       "er_rfs_reffered_visit                  91405\n",
       "er_rfs_service_name                   473711\n",
       "er_rfs_service_type                   473711\n",
       "er_rfc_kiji_id_raw                    403745\n",
       "ig_usr_connection                     111866\n",
       "kiji_id_raw                                0\n",
       "service_category                           0\n",
       "moji_count                                 0\n",
       "title                                    192\n",
       "dtype: int64"
      ]
     },
     "execution_count": 709,
     "metadata": {},
     "output_type": "execute_result"
    }
   ],
   "source": [
    "train_df.isnull().sum()"
   ]
  },
  {
   "cell_type": "code",
   "execution_count": 926,
   "metadata": {},
   "outputs": [
    {
     "data": {
      "text/html": [
       "<div>\n",
       "<style scoped>\n",
       "    .dataframe tbody tr th:only-of-type {\n",
       "        vertical-align: middle;\n",
       "    }\n",
       "\n",
       "    .dataframe tbody tr th {\n",
       "        vertical-align: top;\n",
       "    }\n",
       "\n",
       "    .dataframe thead th {\n",
       "        text-align: right;\n",
       "    }\n",
       "</style>\n",
       "<table border=\"1\" class=\"dataframe\">\n",
       "  <thead>\n",
       "    <tr style=\"text-align: right;\">\n",
       "      <th></th>\n",
       "      <th>kiji_id_raw</th>\n",
       "      <th>display_time</th>\n",
       "      <th>service_category</th>\n",
       "      <th>title</th>\n",
       "      <th>title2</th>\n",
       "      <th>title3</th>\n",
       "      <th>genres</th>\n",
       "      <th>belong_topic_info</th>\n",
       "      <th>keywords</th>\n",
       "      <th>body</th>\n",
       "      <th>moji_count</th>\n",
       "    </tr>\n",
       "  </thead>\n",
       "  <tbody>\n",
       "  </tbody>\n",
       "</table>\n",
       "</div>"
      ],
      "text/plain": [
       "Empty DataFrame\n",
       "Columns: [kiji_id_raw, display_time, service_category, title, title2, title3, genres, belong_topic_info, keywords, body, moji_count]\n",
       "Index: []"
      ]
     },
     "execution_count": 926,
     "metadata": {},
     "output_type": "execute_result"
    }
   ],
   "source": [
    "kiji_df.head(0)"
   ]
  },
  {
   "cell_type": "code",
   "execution_count": 652,
   "metadata": {},
   "outputs": [
    {
     "name": "stdout",
     "output_type": "stream",
     "text": [
      "CPU times: user 1min 28s, sys: 14.1 s, total: 1min 42s\n",
      "Wall time: 54.4 s\n"
     ]
    }
   ],
   "source": [
    "%%time\n",
    "from sklearn.feature_extraction.text import TfidfVectorizer\n",
    "from sklearn.decomposition import TruncatedSVD\n",
    "tfidf = TfidfVectorizer(ngram_range=(1,3))\n",
    "tsvd = TruncatedSVD(n_components = 128, n_iter=5)\n",
    "tf_title_train = tfidf.fit_transform(train_df[\"title\"].fillna(\"None\").values)\n",
    "tf_title_train = tsvd.fit_transform(tf_title_train)\n",
    "tf_title_test = tfidf.fit_transform(test_df[\"title\"].fillna(\"None\").values)\n",
    "tf_title_test = tsvd.fit_transform(tf_title_test)"
   ]
  },
  {
   "cell_type": "code",
   "execution_count": 654,
   "metadata": {},
   "outputs": [],
   "source": [
    "tf_train = pd.DataFrame(tf_title_train)\n",
    "tf_test = pd.DataFrame(tf_title_test)"
   ]
  },
  {
   "cell_type": "code",
   "execution_count": 675,
   "metadata": {},
   "outputs": [],
   "source": [
    "tftrnnm = [ 'tfidf_'+str(i) for i in tf_train.columns]"
   ]
  },
  {
   "cell_type": "code",
   "execution_count": 676,
   "metadata": {},
   "outputs": [],
   "source": [
    "tf_train.columns = tftrnnm\n",
    "tf_test.columns = tftrnnm"
   ]
  },
  {
   "cell_type": "code",
   "execution_count": 710,
   "metadata": {},
   "outputs": [],
   "source": [
    "train_df = pd.concat([train_df,tf_train], axis = 1 )\n",
    "test_df = pd.concat([test_df,tf_test], axis = 1 )"
   ]
  },
  {
   "cell_type": "code",
   "execution_count": 711,
   "metadata": {},
   "outputs": [
    {
     "data": {
      "text/plain": [
       "(477057, 155)"
      ]
     },
     "execution_count": 711,
     "metadata": {},
     "output_type": "execute_result"
    }
   ],
   "source": [
    "train_df.shape"
   ]
  },
  {
   "cell_type": "code",
   "execution_count": 712,
   "metadata": {},
   "outputs": [
    {
     "data": {
      "text/plain": [
       "(324445, 154)"
      ]
     },
     "execution_count": 712,
     "metadata": {},
     "output_type": "execute_result"
    }
   ],
   "source": [
    "test_df.shape"
   ]
  },
  {
   "cell_type": "markdown",
   "metadata": {},
   "source": [
    "# Data Check"
   ]
  },
  {
   "cell_type": "code",
   "execution_count": 7,
   "metadata": {},
   "outputs": [
    {
     "name": "stdout",
     "output_type": "stream",
     "text": [
      "(477057, 23)\n",
      "(324445, 22)\n",
      "(26549, 11)\n"
     ]
    }
   ],
   "source": [
    "print(train_df.shape)\n",
    "print(test_df.shape)\n",
    "print(kiji_df.shape)"
   ]
  },
  {
   "cell_type": "code",
   "execution_count": 927,
   "metadata": {},
   "outputs": [
    {
     "data": {
      "text/html": [
       "<div>\n",
       "<style scoped>\n",
       "    .dataframe tbody tr th:only-of-type {\n",
       "        vertical-align: middle;\n",
       "    }\n",
       "\n",
       "    .dataframe tbody tr th {\n",
       "        vertical-align: top;\n",
       "    }\n",
       "\n",
       "    .dataframe thead th {\n",
       "        text-align: right;\n",
       "    }\n",
       "</style>\n",
       "<table border=\"1\" class=\"dataframe\">\n",
       "  <thead>\n",
       "    <tr style=\"text-align: right;\">\n",
       "      <th></th>\n",
       "      <th>age</th>\n",
       "      <th>kiji_id</th>\n",
       "      <th>user_id</th>\n",
       "      <th>ts</th>\n",
       "      <th>ig_ctx_red_viewed_percent</th>\n",
       "      <th>ig_ctx_red_elapsed_since_page_load</th>\n",
       "      <th>er_geo_bc_flag</th>\n",
       "      <th>ig_ctx_product</th>\n",
       "      <th>er_geo_pref_j_name</th>\n",
       "      <th>er_geo_city_j_name</th>\n",
       "      <th>er_geo_country_code</th>\n",
       "      <th>er_dev_browser_family</th>\n",
       "      <th>er_dev_browser_version</th>\n",
       "      <th>er_dev_device_name</th>\n",
       "      <th>er_dev_device_type</th>\n",
       "      <th>er_dev_manufacture</th>\n",
       "      <th>er_dev_os_family</th>\n",
       "      <th>er_dev_os_version</th>\n",
       "      <th>er_rfs_reffered_visit</th>\n",
       "      <th>er_rfs_service_name</th>\n",
       "      <th>er_rfs_service_type</th>\n",
       "      <th>er_rfc_kiji_id_raw</th>\n",
       "      <th>ig_usr_connection</th>\n",
       "    </tr>\n",
       "  </thead>\n",
       "  <tbody>\n",
       "  </tbody>\n",
       "</table>\n",
       "</div>"
      ],
      "text/plain": [
       "Empty DataFrame\n",
       "Columns: [age, kiji_id, user_id, ts, ig_ctx_red_viewed_percent, ig_ctx_red_elapsed_since_page_load, er_geo_bc_flag, ig_ctx_product, er_geo_pref_j_name, er_geo_city_j_name, er_geo_country_code, er_dev_browser_family, er_dev_browser_version, er_dev_device_name, er_dev_device_type, er_dev_manufacture, er_dev_os_family, er_dev_os_version, er_rfs_reffered_visit, er_rfs_service_name, er_rfs_service_type, er_rfc_kiji_id_raw, ig_usr_connection]\n",
       "Index: []"
      ]
     },
     "execution_count": 927,
     "metadata": {},
     "output_type": "execute_result"
    }
   ],
   "source": [
    "train_df.head(0)"
   ]
  },
  {
   "cell_type": "code",
   "execution_count": 714,
   "metadata": {},
   "outputs": [
    {
     "data": {
      "text/plain": [
       "age                                   float64\n",
       "kiji_id                                object\n",
       "user_id                                 int64\n",
       "ts                                     object\n",
       "ig_ctx_red_viewed_percent             float64\n",
       "ig_ctx_red_elapsed_since_page_load    float64\n",
       "er_geo_bc_flag                          int64\n",
       "ig_ctx_product                         object\n",
       "er_geo_pref_j_name                     object\n",
       "er_geo_city_j_name                     object\n",
       "er_geo_country_code                    object\n",
       "er_dev_browser_family                  object\n",
       "er_dev_browser_version                 object\n",
       "er_dev_device_name                     object\n",
       "er_dev_device_type                     object\n",
       "er_dev_manufacture                     object\n",
       "er_dev_os_family                       object\n",
       "er_dev_os_version                      object\n",
       "er_rfs_reffered_visit                  object\n",
       "er_rfs_service_name                    object\n",
       "er_rfs_service_type                    object\n",
       "er_rfc_kiji_id_raw                     object\n",
       "ig_usr_connection                      object\n",
       "kiji_id_raw                            object\n",
       "service_category                       object\n",
       "moji_count                            float64\n",
       "title                                  object\n",
       "tfidf_train_tfidf_0                   float64\n",
       "tfidf_train_tfidf_1                   float64\n",
       "tfidf_train_tfidf_2                   float64\n",
       "tfidf_train_tfidf_3                   float64\n",
       "tfidf_train_tfidf_4                   float64\n",
       "tfidf_train_tfidf_5                   float64\n",
       "tfidf_train_tfidf_6                   float64\n",
       "tfidf_train_tfidf_7                   float64\n",
       "tfidf_train_tfidf_8                   float64\n",
       "tfidf_train_tfidf_9                   float64\n",
       "tfidf_train_tfidf_10                  float64\n",
       "tfidf_train_tfidf_11                  float64\n",
       "tfidf_train_tfidf_12                  float64\n",
       "tfidf_train_tfidf_13                  float64\n",
       "tfidf_train_tfidf_14                  float64\n",
       "tfidf_train_tfidf_15                  float64\n",
       "tfidf_train_tfidf_16                  float64\n",
       "tfidf_train_tfidf_17                  float64\n",
       "tfidf_train_tfidf_18                  float64\n",
       "tfidf_train_tfidf_19                  float64\n",
       "tfidf_train_tfidf_20                  float64\n",
       "tfidf_train_tfidf_21                  float64\n",
       "tfidf_train_tfidf_22                  float64\n",
       "tfidf_train_tfidf_23                  float64\n",
       "tfidf_train_tfidf_24                  float64\n",
       "tfidf_train_tfidf_25                  float64\n",
       "tfidf_train_tfidf_26                  float64\n",
       "tfidf_train_tfidf_27                  float64\n",
       "tfidf_train_tfidf_28                  float64\n",
       "tfidf_train_tfidf_29                  float64\n",
       "tfidf_train_tfidf_30                  float64\n",
       "tfidf_train_tfidf_31                  float64\n",
       "tfidf_train_tfidf_32                  float64\n",
       "tfidf_train_tfidf_33                  float64\n",
       "tfidf_train_tfidf_34                  float64\n",
       "tfidf_train_tfidf_35                  float64\n",
       "tfidf_train_tfidf_36                  float64\n",
       "tfidf_train_tfidf_37                  float64\n",
       "tfidf_train_tfidf_38                  float64\n",
       "tfidf_train_tfidf_39                  float64\n",
       "tfidf_train_tfidf_40                  float64\n",
       "tfidf_train_tfidf_41                  float64\n",
       "tfidf_train_tfidf_42                  float64\n",
       "tfidf_train_tfidf_43                  float64\n",
       "tfidf_train_tfidf_44                  float64\n",
       "tfidf_train_tfidf_45                  float64\n",
       "tfidf_train_tfidf_46                  float64\n",
       "tfidf_train_tfidf_47                  float64\n",
       "tfidf_train_tfidf_48                  float64\n",
       "tfidf_train_tfidf_49                  float64\n",
       "tfidf_train_tfidf_50                  float64\n",
       "tfidf_train_tfidf_51                  float64\n",
       "tfidf_train_tfidf_52                  float64\n",
       "tfidf_train_tfidf_53                  float64\n",
       "tfidf_train_tfidf_54                  float64\n",
       "tfidf_train_tfidf_55                  float64\n",
       "tfidf_train_tfidf_56                  float64\n",
       "tfidf_train_tfidf_57                  float64\n",
       "tfidf_train_tfidf_58                  float64\n",
       "tfidf_train_tfidf_59                  float64\n",
       "tfidf_train_tfidf_60                  float64\n",
       "tfidf_train_tfidf_61                  float64\n",
       "tfidf_train_tfidf_62                  float64\n",
       "tfidf_train_tfidf_63                  float64\n",
       "tfidf_train_tfidf_64                  float64\n",
       "tfidf_train_tfidf_65                  float64\n",
       "tfidf_train_tfidf_66                  float64\n",
       "tfidf_train_tfidf_67                  float64\n",
       "tfidf_train_tfidf_68                  float64\n",
       "tfidf_train_tfidf_69                  float64\n",
       "tfidf_train_tfidf_70                  float64\n",
       "tfidf_train_tfidf_71                  float64\n",
       "tfidf_train_tfidf_72                  float64\n",
       "tfidf_train_tfidf_73                  float64\n",
       "tfidf_train_tfidf_74                  float64\n",
       "tfidf_train_tfidf_75                  float64\n",
       "tfidf_train_tfidf_76                  float64\n",
       "tfidf_train_tfidf_77                  float64\n",
       "tfidf_train_tfidf_78                  float64\n",
       "tfidf_train_tfidf_79                  float64\n",
       "tfidf_train_tfidf_80                  float64\n",
       "tfidf_train_tfidf_81                  float64\n",
       "tfidf_train_tfidf_82                  float64\n",
       "tfidf_train_tfidf_83                  float64\n",
       "tfidf_train_tfidf_84                  float64\n",
       "tfidf_train_tfidf_85                  float64\n",
       "tfidf_train_tfidf_86                  float64\n",
       "tfidf_train_tfidf_87                  float64\n",
       "tfidf_train_tfidf_88                  float64\n",
       "tfidf_train_tfidf_89                  float64\n",
       "tfidf_train_tfidf_90                  float64\n",
       "tfidf_train_tfidf_91                  float64\n",
       "tfidf_train_tfidf_92                  float64\n",
       "tfidf_train_tfidf_93                  float64\n",
       "tfidf_train_tfidf_94                  float64\n",
       "tfidf_train_tfidf_95                  float64\n",
       "tfidf_train_tfidf_96                  float64\n",
       "tfidf_train_tfidf_97                  float64\n",
       "tfidf_train_tfidf_98                  float64\n",
       "tfidf_train_tfidf_99                  float64\n",
       "tfidf_train_tfidf_100                 float64\n",
       "tfidf_train_tfidf_101                 float64\n",
       "tfidf_train_tfidf_102                 float64\n",
       "tfidf_train_tfidf_103                 float64\n",
       "tfidf_train_tfidf_104                 float64\n",
       "tfidf_train_tfidf_105                 float64\n",
       "tfidf_train_tfidf_106                 float64\n",
       "tfidf_train_tfidf_107                 float64\n",
       "tfidf_train_tfidf_108                 float64\n",
       "tfidf_train_tfidf_109                 float64\n",
       "tfidf_train_tfidf_110                 float64\n",
       "tfidf_train_tfidf_111                 float64\n",
       "tfidf_train_tfidf_112                 float64\n",
       "tfidf_train_tfidf_113                 float64\n",
       "tfidf_train_tfidf_114                 float64\n",
       "tfidf_train_tfidf_115                 float64\n",
       "tfidf_train_tfidf_116                 float64\n",
       "tfidf_train_tfidf_117                 float64\n",
       "tfidf_train_tfidf_118                 float64\n",
       "tfidf_train_tfidf_119                 float64\n",
       "tfidf_train_tfidf_120                 float64\n",
       "tfidf_train_tfidf_121                 float64\n",
       "tfidf_train_tfidf_122                 float64\n",
       "tfidf_train_tfidf_123                 float64\n",
       "tfidf_train_tfidf_124                 float64\n",
       "tfidf_train_tfidf_125                 float64\n",
       "tfidf_train_tfidf_126                 float64\n",
       "tfidf_train_tfidf_127                 float64\n",
       "dtype: object"
      ]
     },
     "execution_count": 714,
     "metadata": {},
     "output_type": "execute_result"
    }
   ],
   "source": [
    "train_df.dtypes"
   ]
  },
  {
   "cell_type": "code",
   "execution_count": 761,
   "metadata": {},
   "outputs": [],
   "source": [
    "t_t = train_df.dtypes\n",
    "cat_list = t_t[t_t == 'object'].index.tolist()\n",
    "num_list = t_t[t_t != 'object'].index.tolist()\n",
    "cat_list.remove('kiji_id')\n",
    "cat_list.remove('ts')\n",
    "cat_list.remove('title')\n",
    "cat_list.append('er_geo_bc_flag')\n",
    "num_list.remove('age')\n",
    "num_list.remove('user_id')\n",
    "num_list.remove('er_geo_bc_flag')\n",
    "num_list.append('ts')"
   ]
  },
  {
   "cell_type": "code",
   "execution_count": 762,
   "metadata": {},
   "outputs": [],
   "source": [
    "num_list.append('user_id')\n",
    "cat_list.append('user_id')\n",
    "num_list.append('kiji_id')\n",
    "cat_list.append('kiji_id')"
   ]
  },
  {
   "cell_type": "code",
   "execution_count": 776,
   "metadata": {},
   "outputs": [
    {
     "data": {
      "text/plain": [
       "['ig_ctx_red_viewed_percent',\n",
       " 'ig_ctx_red_elapsed_since_page_load',\n",
       " 'moji_count',\n",
       " 'ts',\n",
       " 'user_id',\n",
       " 'kiji_id']"
      ]
     },
     "execution_count": 776,
     "metadata": {},
     "output_type": "execute_result"
    }
   ],
   "source": [
    "num_list"
   ]
  },
  {
   "cell_type": "code",
   "execution_count": 764,
   "metadata": {},
   "outputs": [
    {
     "data": {
      "text/plain": [
       "['ig_ctx_product',\n",
       " 'er_geo_pref_j_name',\n",
       " 'er_geo_city_j_name',\n",
       " 'er_geo_country_code',\n",
       " 'er_dev_browser_family',\n",
       " 'er_dev_browser_version',\n",
       " 'er_dev_device_name',\n",
       " 'er_dev_device_type',\n",
       " 'er_dev_manufacture',\n",
       " 'er_dev_os_family',\n",
       " 'er_dev_os_version',\n",
       " 'er_rfs_reffered_visit',\n",
       " 'er_rfs_service_name',\n",
       " 'er_rfs_service_type',\n",
       " 'er_rfc_kiji_id_raw',\n",
       " 'ig_usr_connection',\n",
       " 'kiji_id_raw',\n",
       " 'service_category',\n",
       " 'er_geo_bc_flag',\n",
       " 'user_id',\n",
       " 'kiji_id']"
      ]
     },
     "execution_count": 764,
     "metadata": {},
     "output_type": "execute_result"
    }
   ],
   "source": [
    "cat_list"
   ]
  },
  {
   "cell_type": "code",
   "execution_count": 29,
   "metadata": {},
   "outputs": [
    {
     "data": {
      "text/html": [
       "<div>\n",
       "<style scoped>\n",
       "    .dataframe tbody tr th:only-of-type {\n",
       "        vertical-align: middle;\n",
       "    }\n",
       "\n",
       "    .dataframe tbody tr th {\n",
       "        vertical-align: top;\n",
       "    }\n",
       "\n",
       "    .dataframe thead th {\n",
       "        text-align: right;\n",
       "    }\n",
       "</style>\n",
       "<table border=\"1\" class=\"dataframe\">\n",
       "  <thead>\n",
       "    <tr style=\"text-align: right;\">\n",
       "      <th></th>\n",
       "      <th>age</th>\n",
       "      <th>user_id</th>\n",
       "      <th>ig_ctx_red_viewed_percent</th>\n",
       "      <th>ig_ctx_red_elapsed_since_page_load</th>\n",
       "      <th>er_geo_bc_flag</th>\n",
       "    </tr>\n",
       "  </thead>\n",
       "  <tbody>\n",
       "    <tr>\n",
       "      <th>count</th>\n",
       "      <td>477057.000000</td>\n",
       "      <td>4.770570e+05</td>\n",
       "      <td>382999.000000</td>\n",
       "      <td>387248.000000</td>\n",
       "      <td>477057.000000</td>\n",
       "    </tr>\n",
       "    <tr>\n",
       "      <th>mean</th>\n",
       "      <td>45.480662</td>\n",
       "      <td>5.069609e+09</td>\n",
       "      <td>88.292993</td>\n",
       "      <td>124.364831</td>\n",
       "      <td>0.093062</td>\n",
       "    </tr>\n",
       "    <tr>\n",
       "      <th>std</th>\n",
       "      <td>13.650835</td>\n",
       "      <td>2.900851e+09</td>\n",
       "      <td>23.740932</td>\n",
       "      <td>2361.694252</td>\n",
       "      <td>0.290520</td>\n",
       "    </tr>\n",
       "    <tr>\n",
       "      <th>min</th>\n",
       "      <td>19.000000</td>\n",
       "      <td>1.010270e+06</td>\n",
       "      <td>0.000000</td>\n",
       "      <td>0.000000</td>\n",
       "      <td>0.000000</td>\n",
       "    </tr>\n",
       "    <tr>\n",
       "      <th>25%</th>\n",
       "      <td>34.000000</td>\n",
       "      <td>2.564377e+09</td>\n",
       "      <td>96.836550</td>\n",
       "      <td>7.877922</td>\n",
       "      <td>0.000000</td>\n",
       "    </tr>\n",
       "    <tr>\n",
       "      <th>50%</th>\n",
       "      <td>45.000000</td>\n",
       "      <td>5.113663e+09</td>\n",
       "      <td>100.000000</td>\n",
       "      <td>30.834607</td>\n",
       "      <td>0.000000</td>\n",
       "    </tr>\n",
       "    <tr>\n",
       "      <th>75%</th>\n",
       "      <td>55.000000</td>\n",
       "      <td>7.599922e+09</td>\n",
       "      <td>100.000000</td>\n",
       "      <td>80.038000</td>\n",
       "      <td>0.000000</td>\n",
       "    </tr>\n",
       "    <tr>\n",
       "      <th>max</th>\n",
       "      <td>90.000000</td>\n",
       "      <td>9.999625e+09</td>\n",
       "      <td>139.013000</td>\n",
       "      <td>427918.904000</td>\n",
       "      <td>1.000000</td>\n",
       "    </tr>\n",
       "  </tbody>\n",
       "</table>\n",
       "</div>"
      ],
      "text/plain": [
       "                 age       user_id  ig_ctx_red_viewed_percent  \\\n",
       "count  477057.000000  4.770570e+05              382999.000000   \n",
       "mean       45.480662  5.069609e+09                  88.292993   \n",
       "std        13.650835  2.900851e+09                  23.740932   \n",
       "min        19.000000  1.010270e+06                   0.000000   \n",
       "25%        34.000000  2.564377e+09                  96.836550   \n",
       "50%        45.000000  5.113663e+09                 100.000000   \n",
       "75%        55.000000  7.599922e+09                 100.000000   \n",
       "max        90.000000  9.999625e+09                 139.013000   \n",
       "\n",
       "       ig_ctx_red_elapsed_since_page_load  er_geo_bc_flag  \n",
       "count                       387248.000000   477057.000000  \n",
       "mean                           124.364831        0.093062  \n",
       "std                           2361.694252        0.290520  \n",
       "min                              0.000000        0.000000  \n",
       "25%                              7.877922        0.000000  \n",
       "50%                             30.834607        0.000000  \n",
       "75%                             80.038000        0.000000  \n",
       "max                         427918.904000        1.000000  "
      ]
     },
     "execution_count": 29,
     "metadata": {},
     "output_type": "execute_result"
    }
   ],
   "source": [
    "#基礎統計量　train\n",
    "train_df.describe()"
   ]
  },
  {
   "cell_type": "code",
   "execution_count": 30,
   "metadata": {},
   "outputs": [
    {
     "data": {
      "text/html": [
       "<div>\n",
       "<style scoped>\n",
       "    .dataframe tbody tr th:only-of-type {\n",
       "        vertical-align: middle;\n",
       "    }\n",
       "\n",
       "    .dataframe tbody tr th {\n",
       "        vertical-align: top;\n",
       "    }\n",
       "\n",
       "    .dataframe thead th {\n",
       "        text-align: right;\n",
       "    }\n",
       "</style>\n",
       "<table border=\"1\" class=\"dataframe\">\n",
       "  <thead>\n",
       "    <tr style=\"text-align: right;\">\n",
       "      <th></th>\n",
       "      <th>user_id</th>\n",
       "      <th>ig_ctx_red_viewed_percent</th>\n",
       "      <th>ig_ctx_red_elapsed_since_page_load</th>\n",
       "      <th>er_geo_bc_flag</th>\n",
       "    </tr>\n",
       "  </thead>\n",
       "  <tbody>\n",
       "    <tr>\n",
       "      <th>count</th>\n",
       "      <td>3.244450e+05</td>\n",
       "      <td>264996.000000</td>\n",
       "      <td>267693.000000</td>\n",
       "      <td>324445.000000</td>\n",
       "    </tr>\n",
       "    <tr>\n",
       "      <th>mean</th>\n",
       "      <td>5.053282e+09</td>\n",
       "      <td>88.412571</td>\n",
       "      <td>134.777444</td>\n",
       "      <td>0.095314</td>\n",
       "    </tr>\n",
       "    <tr>\n",
       "      <th>std</th>\n",
       "      <td>2.870190e+09</td>\n",
       "      <td>23.694047</td>\n",
       "      <td>2309.446223</td>\n",
       "      <td>0.293648</td>\n",
       "    </tr>\n",
       "    <tr>\n",
       "      <th>min</th>\n",
       "      <td>1.406160e+06</td>\n",
       "      <td>0.000000</td>\n",
       "      <td>0.000000</td>\n",
       "      <td>0.000000</td>\n",
       "    </tr>\n",
       "    <tr>\n",
       "      <th>25%</th>\n",
       "      <td>2.573918e+09</td>\n",
       "      <td>97.855875</td>\n",
       "      <td>8.303943</td>\n",
       "      <td>0.000000</td>\n",
       "    </tr>\n",
       "    <tr>\n",
       "      <th>50%</th>\n",
       "      <td>5.063415e+09</td>\n",
       "      <td>100.000000</td>\n",
       "      <td>31.998717</td>\n",
       "      <td>0.000000</td>\n",
       "    </tr>\n",
       "    <tr>\n",
       "      <th>75%</th>\n",
       "      <td>7.565872e+09</td>\n",
       "      <td>100.000000</td>\n",
       "      <td>82.032000</td>\n",
       "      <td>0.000000</td>\n",
       "    </tr>\n",
       "    <tr>\n",
       "      <th>max</th>\n",
       "      <td>9.999655e+09</td>\n",
       "      <td>144.294000</td>\n",
       "      <td>352172.570000</td>\n",
       "      <td>1.000000</td>\n",
       "    </tr>\n",
       "  </tbody>\n",
       "</table>\n",
       "</div>"
      ],
      "text/plain": [
       "            user_id  ig_ctx_red_viewed_percent  \\\n",
       "count  3.244450e+05              264996.000000   \n",
       "mean   5.053282e+09                  88.412571   \n",
       "std    2.870190e+09                  23.694047   \n",
       "min    1.406160e+06                   0.000000   \n",
       "25%    2.573918e+09                  97.855875   \n",
       "50%    5.063415e+09                 100.000000   \n",
       "75%    7.565872e+09                 100.000000   \n",
       "max    9.999655e+09                 144.294000   \n",
       "\n",
       "       ig_ctx_red_elapsed_since_page_load  er_geo_bc_flag  \n",
       "count                       267693.000000   324445.000000  \n",
       "mean                           134.777444        0.095314  \n",
       "std                           2309.446223        0.293648  \n",
       "min                              0.000000        0.000000  \n",
       "25%                              8.303943        0.000000  \n",
       "50%                             31.998717        0.000000  \n",
       "75%                             82.032000        0.000000  \n",
       "max                         352172.570000        1.000000  "
      ]
     },
     "execution_count": 30,
     "metadata": {},
     "output_type": "execute_result"
    }
   ],
   "source": [
    "#基礎統計量　test\n",
    "test_df.describe()"
   ]
  },
  {
   "cell_type": "code",
   "execution_count": 37,
   "metadata": {},
   "outputs": [
    {
     "data": {
      "text/plain": [
       "0"
      ]
     },
     "execution_count": 37,
     "metadata": {},
     "output_type": "execute_result"
    }
   ],
   "source": [
    "# user_idのかぶりチェック\n",
    "len(set(train_df.user_id.unique()) & set(test_df.user_id.unique()))\n",
    "## かぶりなし"
   ]
  },
  {
   "cell_type": "code",
   "execution_count": 41,
   "metadata": {},
   "outputs": [
    {
     "data": {
      "text/plain": [
       "14088"
      ]
     },
     "execution_count": 41,
     "metadata": {},
     "output_type": "execute_result"
    }
   ],
   "source": [
    "len(set(train_df.user_id.unique()))"
   ]
  },
  {
   "cell_type": "markdown",
   "metadata": {},
   "source": [
    "# Prepare Data"
   ]
  },
  {
   "cell_type": "code",
   "execution_count": 928,
   "metadata": {},
   "outputs": [
    {
     "data": {
      "text/html": [
       "<div>\n",
       "<style scoped>\n",
       "    .dataframe tbody tr th:only-of-type {\n",
       "        vertical-align: middle;\n",
       "    }\n",
       "\n",
       "    .dataframe tbody tr th {\n",
       "        vertical-align: top;\n",
       "    }\n",
       "\n",
       "    .dataframe thead th {\n",
       "        text-align: right;\n",
       "    }\n",
       "</style>\n",
       "<table border=\"1\" class=\"dataframe\">\n",
       "  <thead>\n",
       "    <tr style=\"text-align: right;\">\n",
       "      <th></th>\n",
       "      <th>age</th>\n",
       "      <th>kiji_id</th>\n",
       "      <th>user_id</th>\n",
       "      <th>ts</th>\n",
       "      <th>ig_ctx_red_viewed_percent</th>\n",
       "      <th>ig_ctx_red_elapsed_since_page_load</th>\n",
       "      <th>er_geo_bc_flag</th>\n",
       "      <th>ig_ctx_product</th>\n",
       "      <th>er_geo_pref_j_name</th>\n",
       "      <th>er_geo_city_j_name</th>\n",
       "      <th>er_geo_country_code</th>\n",
       "      <th>er_dev_browser_family</th>\n",
       "      <th>er_dev_browser_version</th>\n",
       "      <th>er_dev_device_name</th>\n",
       "      <th>er_dev_device_type</th>\n",
       "      <th>er_dev_manufacture</th>\n",
       "      <th>er_dev_os_family</th>\n",
       "      <th>er_dev_os_version</th>\n",
       "      <th>er_rfs_reffered_visit</th>\n",
       "      <th>er_rfs_service_name</th>\n",
       "      <th>er_rfs_service_type</th>\n",
       "      <th>er_rfc_kiji_id_raw</th>\n",
       "      <th>ig_usr_connection</th>\n",
       "    </tr>\n",
       "  </thead>\n",
       "  <tbody>\n",
       "  </tbody>\n",
       "</table>\n",
       "</div>"
      ],
      "text/plain": [
       "Empty DataFrame\n",
       "Columns: [age, kiji_id, user_id, ts, ig_ctx_red_viewed_percent, ig_ctx_red_elapsed_since_page_load, er_geo_bc_flag, ig_ctx_product, er_geo_pref_j_name, er_geo_city_j_name, er_geo_country_code, er_dev_browser_family, er_dev_browser_version, er_dev_device_name, er_dev_device_type, er_dev_manufacture, er_dev_os_family, er_dev_os_version, er_rfs_reffered_visit, er_rfs_service_name, er_rfs_service_type, er_rfc_kiji_id_raw, ig_usr_connection]\n",
       "Index: []"
      ]
     },
     "execution_count": 928,
     "metadata": {},
     "output_type": "execute_result"
    }
   ],
   "source": [
    "train_df.tail(0)"
   ]
  },
  {
   "cell_type": "code",
   "execution_count": 929,
   "metadata": {},
   "outputs": [
    {
     "data": {
      "text/html": [
       "<div>\n",
       "<style scoped>\n",
       "    .dataframe tbody tr th:only-of-type {\n",
       "        vertical-align: middle;\n",
       "    }\n",
       "\n",
       "    .dataframe tbody tr th {\n",
       "        vertical-align: top;\n",
       "    }\n",
       "\n",
       "    .dataframe thead th {\n",
       "        text-align: right;\n",
       "    }\n",
       "</style>\n",
       "<table border=\"1\" class=\"dataframe\">\n",
       "  <thead>\n",
       "    <tr style=\"text-align: right;\">\n",
       "      <th></th>\n",
       "      <th>kiji_id</th>\n",
       "      <th>user_id</th>\n",
       "      <th>ts</th>\n",
       "      <th>ig_ctx_red_viewed_percent</th>\n",
       "      <th>ig_ctx_red_elapsed_since_page_load</th>\n",
       "      <th>er_geo_bc_flag</th>\n",
       "      <th>ig_ctx_product</th>\n",
       "      <th>er_geo_pref_j_name</th>\n",
       "      <th>er_geo_city_j_name</th>\n",
       "      <th>er_geo_country_code</th>\n",
       "      <th>er_dev_browser_family</th>\n",
       "      <th>er_dev_browser_version</th>\n",
       "      <th>er_dev_device_name</th>\n",
       "      <th>er_dev_device_type</th>\n",
       "      <th>er_dev_manufacture</th>\n",
       "      <th>er_dev_os_family</th>\n",
       "      <th>er_dev_os_version</th>\n",
       "      <th>er_rfs_reffered_visit</th>\n",
       "      <th>er_rfs_service_name</th>\n",
       "      <th>er_rfs_service_type</th>\n",
       "      <th>er_rfc_kiji_id_raw</th>\n",
       "      <th>ig_usr_connection</th>\n",
       "    </tr>\n",
       "  </thead>\n",
       "  <tbody>\n",
       "  </tbody>\n",
       "</table>\n",
       "</div>"
      ],
      "text/plain": [
       "Empty DataFrame\n",
       "Columns: [kiji_id, user_id, ts, ig_ctx_red_viewed_percent, ig_ctx_red_elapsed_since_page_load, er_geo_bc_flag, ig_ctx_product, er_geo_pref_j_name, er_geo_city_j_name, er_geo_country_code, er_dev_browser_family, er_dev_browser_version, er_dev_device_name, er_dev_device_type, er_dev_manufacture, er_dev_os_family, er_dev_os_version, er_rfs_reffered_visit, er_rfs_service_name, er_rfs_service_type, er_rfc_kiji_id_raw, ig_usr_connection]\n",
       "Index: []"
      ]
     },
     "execution_count": 929,
     "metadata": {},
     "output_type": "execute_result"
    }
   ],
   "source": [
    "test_df.tail(0)"
   ]
  },
  {
   "cell_type": "code",
   "execution_count": 765,
   "metadata": {},
   "outputs": [
    {
     "name": "stdout",
     "output_type": "stream",
     "text": [
      "CPU times: user 7.06 s, sys: 816 ms, total: 7.87 s\n",
      "Wall time: 2.7 s\n"
     ]
    }
   ],
   "source": [
    "%%time\n",
    "df_num_all = pd.concat([train_df[num_list], test_df[num_list] ], axis = 0)\n",
    "df_num_all.reset_index(inplace=True, drop=True)\n",
    "df_cat_all = pd.concat([train_df[cat_list], test_df[cat_list] ], axis = 0)\n",
    "df_cat_all.reset_index(inplace=True, drop=True)\n",
    "df_all = pd.concat([train_df, test_df], axis = 0)\n",
    "df_all.reset_index(inplace=True, drop=True)"
   ]
  },
  {
   "cell_type": "code",
   "execution_count": 51,
   "metadata": {},
   "outputs": [
    {
     "data": {
      "text/plain": [
       "801502"
      ]
     },
     "execution_count": 51,
     "metadata": {},
     "output_type": "execute_result"
    }
   ],
   "source": [
    "len(train_df) + len(test_df)"
   ]
  },
  {
   "cell_type": "code",
   "execution_count": 61,
   "metadata": {},
   "outputs": [
    {
     "data": {
      "text/plain": [
       "(801502, 4)"
      ]
     },
     "execution_count": 61,
     "metadata": {},
     "output_type": "execute_result"
    }
   ],
   "source": [
    "df_num_all.shape"
   ]
  },
  {
   "cell_type": "code",
   "execution_count": 62,
   "metadata": {},
   "outputs": [
    {
     "data": {
      "text/plain": [
       "(801502, 19)"
      ]
     },
     "execution_count": 62,
     "metadata": {},
     "output_type": "execute_result"
    }
   ],
   "source": [
    "df_cat_all.shape"
   ]
  },
  {
   "cell_type": "code",
   "execution_count": 766,
   "metadata": {},
   "outputs": [
    {
     "data": {
      "text/plain": [
       "Index(['ig_ctx_red_viewed_percent', 'ig_ctx_red_elapsed_since_page_load',\n",
       "       'moji_count', 'ts', 'user_id', 'kiji_id'],\n",
       "      dtype='object')"
      ]
     },
     "execution_count": 766,
     "metadata": {},
     "output_type": "execute_result"
    }
   ],
   "source": [
    "df_num_all.columns"
   ]
  },
  {
   "cell_type": "code",
   "execution_count": 73,
   "metadata": {},
   "outputs": [
    {
     "data": {
      "image/png": "[encoded data removed]",
      "text/plain": [
       "<Figure size 432x288 with 1 Axes>"
      ]
     },
     "metadata": {
      "needs_background": "light"
     },
     "output_type": "display_data"
    }
   ],
   "source": [
    "plt.hist(target, bins = 20)\n",
    "plt.show()"
   ]
  },
  {
   "cell_type": "code",
   "execution_count": 74,
   "metadata": {},
   "outputs": [
    {
     "data": {
      "image/png": "[encoded data removed]",
      "text/plain": [
       "<Figure size 432x288 with 1 Axes>"
      ]
     },
     "metadata": {
      "needs_background": "light"
     },
     "output_type": "display_data"
    }
   ],
   "source": [
    "plt.hist(np.log1p(target), bins = 20)\n",
    "plt.show()"
   ]
  },
  {
   "cell_type": "markdown",
   "metadata": {},
   "source": [
    "## 数値変数"
   ]
  },
  {
   "cell_type": "markdown",
   "metadata": {},
   "source": [
    "### 欠損"
   ]
  },
  {
   "cell_type": "code",
   "execution_count": 767,
   "metadata": {},
   "outputs": [
    {
     "data": {
      "text/plain": [
       "ig_ctx_red_viewed_percent             153507\n",
       "ig_ctx_red_elapsed_since_page_load    146561\n",
       "moji_count                                 0\n",
       "ts                                         0\n",
       "user_id                                    0\n",
       "kiji_id                                    0\n",
       "dtype: int64"
      ]
     },
     "execution_count": 767,
     "metadata": {},
     "output_type": "execute_result"
    }
   ],
   "source": [
    "df_num_all.isnull().sum()"
   ]
  },
  {
   "cell_type": "code",
   "execution_count": 768,
   "metadata": {},
   "outputs": [
    {
     "name": "stdout",
     "output_type": "stream",
     "text": [
      "CPU times: user 512 ms, sys: 32 ms, total: 544 ms\n",
      "Wall time: 148 ms\n"
     ]
    },
    {
     "data": {
      "text/plain": [
       "ig_ctx_red_viewed_percent             0\n",
       "ig_ctx_red_elapsed_since_page_load    0\n",
       "moji_count                            0\n",
       "ts                                    0\n",
       "user_id                               0\n",
       "kiji_id                               0\n",
       "dtype: int64"
      ]
     },
     "execution_count": 768,
     "metadata": {},
     "output_type": "execute_result"
    }
   ],
   "source": [
    "%%time\n",
    "df_num_all['ig_ctx_red_viewed_percent'] \\\n",
    "= df_num_all['ig_ctx_red_viewed_percent'].fillna(df_num_all['ig_ctx_red_viewed_percent'].median()) #最頻値で欠損値を埋める\n",
    "df_num_all['ig_ctx_red_elapsed_since_page_load'] \\\n",
    "= df_num_all['ig_ctx_red_elapsed_since_page_load'].fillna(df_num_all['ig_ctx_red_elapsed_since_page_load'].median())\n",
    "df_num_all.isnull().sum()"
   ]
  },
  {
   "cell_type": "code",
   "execution_count": 769,
   "metadata": {},
   "outputs": [
    {
     "data": {
      "text/plain": [
       "ig_ctx_red_viewed_percent             float64\n",
       "ig_ctx_red_elapsed_since_page_load    float64\n",
       "moji_count                            float64\n",
       "ts                                     object\n",
       "user_id                                 int64\n",
       "kiji_id                                object\n",
       "dtype: object"
      ]
     },
     "execution_count": 769,
     "metadata": {},
     "output_type": "execute_result"
    }
   ],
   "source": [
    "df_num_all.dtypes"
   ]
  },
  {
   "cell_type": "markdown",
   "metadata": {},
   "source": [
    "### 時間の変換"
   ]
  },
  {
   "cell_type": "code",
   "execution_count": 770,
   "metadata": {},
   "outputs": [
    {
     "data": {
      "text/plain": [
       "(801502, 6)"
      ]
     },
     "execution_count": 770,
     "metadata": {},
     "output_type": "execute_result"
    }
   ],
   "source": [
    "df_num_all.shape"
   ]
  },
  {
   "cell_type": "code",
   "execution_count": 771,
   "metadata": {},
   "outputs": [
    {
     "name": "stdout",
     "output_type": "stream",
     "text": [
      "CPU times: user 1.28 s, sys: 36 ms, total: 1.31 s\n",
      "Wall time: 540 ms\n"
     ]
    }
   ],
   "source": [
    "%%time\n",
    "df_num_all= change_times(df_num_all)"
   ]
  },
  {
   "cell_type": "code",
   "execution_count": 725,
   "metadata": {},
   "outputs": [
    {
     "data": {
      "text/plain": [
       "(801502, 138)"
      ]
     },
     "execution_count": 725,
     "metadata": {},
     "output_type": "execute_result"
    }
   ],
   "source": [
    "df_num_all.shape"
   ]
  },
  {
   "cell_type": "code",
   "execution_count": 773,
   "metadata": {},
   "outputs": [],
   "source": [
    "df_num_all['isholiday'] = 0\n",
    "df_num_all.loc[df_num_all.weekday.isin([5, 6]),'isholiday']=1 "
   ]
  },
  {
   "cell_type": "code",
   "execution_count": 774,
   "metadata": {},
   "outputs": [
    {
     "data": {
      "text/plain": [
       "array([0, 1])"
      ]
     },
     "execution_count": 774,
     "metadata": {},
     "output_type": "execute_result"
    }
   ],
   "source": [
    "df_num_all.isholiday.unique()"
   ]
  },
  {
   "cell_type": "code",
   "execution_count": 777,
   "metadata": {},
   "outputs": [],
   "source": [
    "num_varlist = ['ig_ctx_red_viewed_percent',\n",
    " 'ig_ctx_red_elapsed_since_page_load',\n",
    " 'moji_count',]"
   ]
  },
  {
   "cell_type": "code",
   "execution_count": 858,
   "metadata": {},
   "outputs": [
    {
     "name": "stdout",
     "output_type": "stream",
     "text": [
      "CPU times: user 43.1 s, sys: 296 ms, total: 43.4 s\n",
      "Wall time: 42.5 s\n"
     ]
    }
   ],
   "source": [
    "%%time\n",
    "df_num = pd.DataFrame()\n",
    "df_num_all['ig_ctx_red_viewed_percent'] = df_num_all['ig_ctx_red_viewed_percent'].astype('float')\n",
    "df_num_all['ig_ctx_red_elapsed_since_page_load'] = df_num_all['ig_ctx_red_elapsed_since_page_load'].astype('float')\n",
    "df_num_all['holiday_readrate'] = df_num_all.groupby(['user_id'])['isholiday'].sum()\\\n",
    "/df_num_all.groupby(['user_id'])['isholiday'].count()\n",
    "for var in num_varlist:\n",
    "    df_num[var+'_max'] = df_num_all.groupby('user_id')[var].max()\n",
    "    df_num[var+'_median'] = df_num_all.groupby('user_id')[var].median()\n",
    "    df_num[var+'_std'] = df_num_all.groupby('user_id')[var].std()\n",
    "    df_num[var+'_max2min'] = df_num_all.groupby('user_id')[var].max()/\\\n",
    "    (1+df_num_all.groupby('user_id')[var].min())\n",
    "    df_num[var+'_wk_mode'] = df_num_all.groupby(['user_id'])['weekday'].apply(lambda x: x.mode()[0])\n",
    "    df_num[var+'_hr_mode'] = df_num_all.groupby(['user_id'])['hour'].apply(lambda x: x.mode()[0])\n",
    "    df_num[var+'_wkd_mean'] = df_num_all[df_num_all.isholiday ==0].groupby(['user_id'])[var].mean()\n",
    "    df_num[var+'_wkd_mean'] = df_num_all[df_num_all.isholiday ==1].groupby(['user_id'])[var].mean()\n",
    "    \n",
    "df_num.reset_index(inplace=True)"
   ]
  },
  {
   "cell_type": "code",
   "execution_count": 859,
   "metadata": {},
   "outputs": [],
   "source": [
    "df_num['holiday_readrate'] = df_num_all.groupby(['user_id'])['isholiday'].sum()\\\n",
    "/df_num_all.groupby(['user_id'])['isholiday'].count()"
   ]
  },
  {
   "cell_type": "code",
   "execution_count": 860,
   "metadata": {},
   "outputs": [
    {
     "data": {
      "text/plain": [
       "Index(['user_id', 'ig_ctx_red_viewed_percent_max',\n",
       "       'ig_ctx_red_viewed_percent_median', 'ig_ctx_red_viewed_percent_std',\n",
       "       'ig_ctx_red_viewed_percent_max2min',\n",
       "       'ig_ctx_red_viewed_percent_wk_mode',\n",
       "       'ig_ctx_red_viewed_percent_hr_mode',\n",
       "       'ig_ctx_red_viewed_percent_wkd_mean',\n",
       "       'ig_ctx_red_elapsed_since_page_load_max',\n",
       "       'ig_ctx_red_elapsed_since_page_load_median',\n",
       "       'ig_ctx_red_elapsed_since_page_load_std',\n",
       "       'ig_ctx_red_elapsed_since_page_load_max2min',\n",
       "       'ig_ctx_red_elapsed_since_page_load_wk_mode',\n",
       "       'ig_ctx_red_elapsed_since_page_load_hr_mode',\n",
       "       'ig_ctx_red_elapsed_since_page_load_wkd_mean', 'moji_count_max',\n",
       "       'moji_count_median', 'moji_count_std', 'moji_count_max2min',\n",
       "       'moji_count_wk_mode', 'moji_count_hr_mode', 'moji_count_wkd_mean',\n",
       "       'holiday_readrate'],\n",
       "      dtype='object')"
      ]
     },
     "execution_count": 860,
     "metadata": {},
     "output_type": "execute_result"
    }
   ],
   "source": [
    "df_num.columns"
   ]
  },
  {
   "cell_type": "code",
   "execution_count": 861,
   "metadata": {},
   "outputs": [],
   "source": [
    "var_num = ['user_id','ig_ctx_red_viewed_percent_max',\n",
    "       'ig_ctx_red_viewed_percent_median', 'ig_ctx_red_viewed_percent_std',\n",
    "       'ig_ctx_red_viewed_percent_max2min',\n",
    "       'ig_ctx_red_viewed_percent_wk_mode',\n",
    "       'ig_ctx_red_viewed_percent_hr_mode',\n",
    "       'ig_ctx_red_viewed_percent_wkd_mean',\n",
    "       'ig_ctx_red_elapsed_since_page_load_max',\n",
    "       'ig_ctx_red_elapsed_since_page_load_median',\n",
    "       'ig_ctx_red_elapsed_since_page_load_std',\n",
    "       'ig_ctx_red_elapsed_since_page_load_max2min',\n",
    "       'ig_ctx_red_elapsed_since_page_load_wk_mode',\n",
    "       'ig_ctx_red_elapsed_since_page_load_hr_mode',\n",
    "       'ig_ctx_red_elapsed_since_page_load_wkd_mean', 'moji_count_max',\n",
    "       'moji_count_median', 'moji_count_std', 'moji_count_max2min',\n",
    "       'moji_count_wk_mode', 'moji_count_hr_mode', 'moji_count_wkd_mean',\n",
    "       'holiday_readrate']"
   ]
  },
  {
   "cell_type": "code",
   "execution_count": 862,
   "metadata": {},
   "outputs": [],
   "source": [
    "df_num = df_num[var_num]"
   ]
  },
  {
   "cell_type": "markdown",
   "metadata": {},
   "source": [
    "## カテゴリカル変数"
   ]
  },
  {
   "cell_type": "markdown",
   "metadata": {},
   "source": [
    "### 欠損値"
   ]
  },
  {
   "cell_type": "code",
   "execution_count": 784,
   "metadata": {},
   "outputs": [],
   "source": [
    "list_cat = ['ig_ctx_product', 'er_geo_pref_j_name', 'er_geo_city_j_name',\n",
    "       'er_geo_country_code', 'er_dev_browser_family',\n",
    "       'er_dev_browser_version', 'er_dev_device_name', 'er_dev_device_type',\n",
    "       'er_dev_manufacture', 'er_dev_os_family', 'er_dev_os_version',\n",
    "       'er_rfs_reffered_visit', 'er_rfs_service_name', 'er_rfs_service_type',\n",
    "       'er_rfc_kiji_id_raw', 'ig_usr_connection', 'er_geo_bc_flag']"
   ]
  },
  {
   "cell_type": "code",
   "execution_count": 785,
   "metadata": {},
   "outputs": [
    {
     "data": {
      "text/plain": [
       "Index(['ig_ctx_product', 'er_geo_pref_j_name', 'er_geo_city_j_name',\n",
       "       'er_geo_country_code', 'er_dev_browser_family',\n",
       "       'er_dev_browser_version', 'er_dev_device_name', 'er_dev_device_type',\n",
       "       'er_dev_manufacture', 'er_dev_os_family', 'er_dev_os_version',\n",
       "       'er_rfs_reffered_visit', 'er_rfs_service_name', 'er_rfs_service_type',\n",
       "       'er_rfc_kiji_id_raw', 'ig_usr_connection', 'kiji_id_raw',\n",
       "       'service_category', 'er_geo_bc_flag', 'user_id', 'kiji_id'],\n",
       "      dtype='object')"
      ]
     },
     "execution_count": 785,
     "metadata": {},
     "output_type": "execute_result"
    }
   ],
   "source": [
    "train_df[cat_list].columns"
   ]
  },
  {
   "cell_type": "code",
   "execution_count": 210,
   "metadata": {},
   "outputs": [
    {
     "name": "stdout",
     "output_type": "stream",
     "text": [
      "ig_ctx_product 5\n",
      "er_geo_pref_j_name 48\n",
      "er_geo_city_j_name 817\n",
      "er_geo_country_code 84\n",
      "er_dev_browser_family 11\n",
      "er_dev_browser_version 201\n",
      "er_dev_device_name 673\n",
      "er_dev_device_type 2\n",
      "er_dev_manufacture 5\n",
      "er_dev_os_family 7\n",
      "er_dev_os_version 103\n",
      "er_rfs_reffered_visit 2\n",
      "er_rfs_service_name 23\n",
      "er_rfs_service_type 9\n",
      "er_rfc_kiji_id_raw 12682\n",
      "ig_usr_connection 8\n",
      "er_geo_bc_flag 2\n",
      "user_id 23487\n",
      "kiji_id 26349\n"
     ]
    }
   ],
   "source": [
    "for var in cat_list:\n",
    "    print(var +' ' + str(len(df_cat_all[var].unique()) ) )"
   ]
  },
  {
   "cell_type": "code",
   "execution_count": 884,
   "metadata": {},
   "outputs": [],
   "source": [
    "df_cat_all['er_dev_os_version'] = df_cat_all['er_dev_os_version'].str.split('.', expand=True).iloc[:,0].values"
   ]
  },
  {
   "cell_type": "code",
   "execution_count": 568,
   "metadata": {},
   "outputs": [],
   "source": [
    "common_device = list(set(test_df['er_dev_device_name'].unique()) & set(train_df['er_dev_device_name'].unique()))"
   ]
  },
  {
   "cell_type": "code",
   "execution_count": 567,
   "metadata": {
    "scrolled": true
   },
   "outputs": [
    {
     "data": {
      "text/plain": [
       "389"
      ]
     },
     "execution_count": 567,
     "metadata": {},
     "output_type": "execute_result"
    }
   ],
   "source": [
    "len(set(test_df['er_dev_device_name'].unique()) & set(train_df['er_dev_device_name'].unique()) )"
   ]
  },
  {
   "cell_type": "code",
   "execution_count": 885,
   "metadata": {},
   "outputs": [],
   "source": [
    "cat_list = ['ig_ctx_product',\n",
    "            'er_geo_pref_j_name',\n",
    "            'er_geo_country_code',\n",
    "            'er_dev_browser_family',\n",
    "            'er_dev_device_type',\n",
    "            'er_dev_manufacture',\n",
    "            'er_dev_os_family',\n",
    "            'er_dev_os_version',\n",
    "            'er_rfs_reffered_visit',\n",
    "            'er_rfs_service_name',\n",
    "            'er_rfs_service_type',\n",
    "            'er_geo_bc_flag',\n",
    "            'user_id',\n",
    "            'kiji_id',\n",
    "           ]"
   ]
  },
  {
   "cell_type": "code",
   "execution_count": 886,
   "metadata": {},
   "outputs": [
    {
     "data": {
      "text/plain": [
       "ig_ctx_product           0\n",
       "er_geo_pref_j_name       0\n",
       "er_geo_country_code      0\n",
       "er_dev_browser_family    0\n",
       "er_dev_device_type       0\n",
       "er_dev_manufacture       0\n",
       "er_dev_os_family         0\n",
       "er_dev_os_version        0\n",
       "er_rfs_reffered_visit    0\n",
       "er_rfs_service_name      0\n",
       "er_rfs_service_type      0\n",
       "er_geo_bc_flag           0\n",
       "user_id                  0\n",
       "kiji_id                  0\n",
       "dtype: int64"
      ]
     },
     "execution_count": 886,
     "metadata": {},
     "output_type": "execute_result"
    }
   ],
   "source": [
    "df_cat_all[cat_list] = df_cat_all[cat_list].fillna('null')\n",
    "df_cat_all[cat_list].isnull().sum()"
   ]
  },
  {
   "cell_type": "code",
   "execution_count": 887,
   "metadata": {
    "code_folding": []
   },
   "outputs": [],
   "source": [
    "var_list = ['ig_ctx_product',\n",
    "            'er_geo_pref_j_name',\n",
    "            'er_geo_country_code',\n",
    "            'er_dev_browser_family',\n",
    "            'er_dev_device_type',\n",
    "            'er_dev_manufacture',\n",
    "            'er_dev_os_family',\n",
    "            'er_dev_os_version',\n",
    "            'er_rfs_reffered_visit',\n",
    "            'er_rfs_service_name',\n",
    "            'er_rfs_service_type',\n",
    "            'er_geo_bc_flag']"
   ]
  },
  {
   "cell_type": "code",
   "execution_count": 304,
   "metadata": {},
   "outputs": [
    {
     "data": {
      "text/html": [
       "<div>\n",
       "<style scoped>\n",
       "    .dataframe tbody tr th:only-of-type {\n",
       "        vertical-align: middle;\n",
       "    }\n",
       "\n",
       "    .dataframe tbody tr th {\n",
       "        vertical-align: top;\n",
       "    }\n",
       "\n",
       "    .dataframe thead th {\n",
       "        text-align: right;\n",
       "    }\n",
       "</style>\n",
       "<table border=\"1\" class=\"dataframe\">\n",
       "  <thead>\n",
       "    <tr style=\"text-align: right;\">\n",
       "      <th></th>\n",
       "      <th>er_geo_bc_flag</th>\n",
       "      <th>ig_ctx_red_elapsed_since_page_load</th>\n",
       "    </tr>\n",
       "  </thead>\n",
       "  <tbody>\n",
       "    <tr>\n",
       "      <th>0</th>\n",
       "      <td>0</td>\n",
       "      <td>32.453453</td>\n",
       "    </tr>\n",
       "    <tr>\n",
       "      <th>1</th>\n",
       "      <td>1</td>\n",
       "      <td>19.077500</td>\n",
       "    </tr>\n",
       "  </tbody>\n",
       "</table>\n",
       "</div>"
      ],
      "text/plain": [
       "   er_geo_bc_flag  ig_ctx_red_elapsed_since_page_load\n",
       "0               0                           32.453453\n",
       "1               1                           19.077500"
      ]
     },
     "execution_count": 304,
     "metadata": {},
     "output_type": "execute_result"
    }
   ],
   "source": [
    "pd.DataFrame(df_all.groupby(var)['ig_ctx_red_elapsed_since_page_load'].median()).reset_index()"
   ]
  },
  {
   "cell_type": "code",
   "execution_count": 313,
   "metadata": {},
   "outputs": [],
   "source": [
    "mapper = pd.DataFrame(df_all.groupby('ig_ctx_product')['ig_ctx_red_elapsed_since_page_load'].median())"
   ]
  },
  {
   "cell_type": "code",
   "execution_count": 317,
   "metadata": {},
   "outputs": [
    {
     "data": {
      "text/plain": [
       "{'DS-App': 35.416,\n",
       " 'DS-Responsive': 26.747999999999998,\n",
       " 'DS-Viewer': 9.273,\n",
       " 'DS-Web-PC': 13.656,\n",
       " 'DS-Web-Viewer': 1.507}"
      ]
     },
     "execution_count": 317,
     "metadata": {},
     "output_type": "execute_result"
    }
   ],
   "source": [
    "#mapper = mapper[['ig_ctx_red_elapsed_since_page_load', var]]\n",
    "#mapper  = mapper.to_dict()\n",
    "mapper['ig_ctx_red_elapsed_since_page_load']"
   ]
  },
  {
   "cell_type": "code",
   "execution_count": 888,
   "metadata": {},
   "outputs": [
    {
     "name": "stdout",
     "output_type": "stream",
     "text": [
      "CPU times: user 2min 53s, sys: 3.5 s, total: 2min 57s\n",
      "Wall time: 2min 53s\n"
     ]
    }
   ],
   "source": [
    "%%time\n",
    "df_cat = pd.DataFrame()\n",
    "\n",
    "for var in var_list:\n",
    "    mapper1 = pd.DataFrame(df_all.groupby(var)['ig_ctx_red_elapsed_since_page_load'].median()).to_dict()\n",
    "    mapper1 = mapper1['ig_ctx_red_elapsed_since_page_load']\n",
    "    mapper1['null'] = -99\n",
    "    mapper2 = pd.DataFrame(df_all.groupby(var)['ig_ctx_red_viewed_percent'].median()).to_dict()\n",
    "    mapper2 = mapper2['ig_ctx_red_viewed_percent']\n",
    "    mapper2['null'] = -99\n",
    "    df_cat[var+'_mode'] = df_cat_all.groupby('user_id')[var].apply(lambda x: x.mode()[0])\n",
    "    df_cat[var+'_ucnt'] = df_cat_all.groupby('user_id')[var].apply(lambda x: x.nunique())\n",
    "    df_cat[var+'_ig_ctx_red_elapsed_since_page_load_med'] = df_cat[var+'_mode'].map(mapper1)\n",
    "    df_cat[var+'_ig_ctx_red_viewed_percent_med'] = df_cat[var+'_mode'].map(mapper2)\n",
    "    "
   ]
  },
  {
   "cell_type": "code",
   "execution_count": 889,
   "metadata": {},
   "outputs": [
    {
     "name": "stdout",
     "output_type": "stream",
     "text": [
      "CPU times: user 100 ms, sys: 8 ms, total: 108 ms\n",
      "Wall time: 105 ms\n"
     ]
    }
   ],
   "source": [
    "%%time\n",
    "for var in var_list:\n",
    "    df_cat.drop(var+'_mode', axis=1, inplace=True)"
   ]
  },
  {
   "cell_type": "code",
   "execution_count": 930,
   "metadata": {},
   "outputs": [
    {
     "data": {
      "text/html": [
       "<div>\n",
       "<style scoped>\n",
       "    .dataframe tbody tr th:only-of-type {\n",
       "        vertical-align: middle;\n",
       "    }\n",
       "\n",
       "    .dataframe tbody tr th {\n",
       "        vertical-align: top;\n",
       "    }\n",
       "\n",
       "    .dataframe thead th {\n",
       "        text-align: right;\n",
       "    }\n",
       "</style>\n",
       "<table border=\"1\" class=\"dataframe\">\n",
       "  <thead>\n",
       "    <tr style=\"text-align: right;\">\n",
       "      <th></th>\n",
       "      <th>level_0</th>\n",
       "      <th>index</th>\n",
       "      <th>user_id</th>\n",
       "      <th>ig_ctx_product_ucnt</th>\n",
       "      <th>ig_ctx_product_ig_ctx_red_elapsed_since_page_load_med</th>\n",
       "      <th>ig_ctx_product_ig_ctx_red_viewed_percent_med</th>\n",
       "      <th>er_geo_pref_j_name_ucnt</th>\n",
       "      <th>er_geo_pref_j_name_ig_ctx_red_elapsed_since_page_load_med</th>\n",
       "      <th>er_geo_pref_j_name_ig_ctx_red_viewed_percent_med</th>\n",
       "      <th>er_geo_country_code_ucnt</th>\n",
       "      <th>er_geo_country_code_ig_ctx_red_elapsed_since_page_load_med</th>\n",
       "      <th>er_geo_country_code_ig_ctx_red_viewed_percent_med</th>\n",
       "      <th>er_dev_browser_family_ucnt</th>\n",
       "      <th>er_dev_browser_family_ig_ctx_red_elapsed_since_page_load_med</th>\n",
       "      <th>er_dev_browser_family_ig_ctx_red_viewed_percent_med</th>\n",
       "      <th>er_dev_device_type_ucnt</th>\n",
       "      <th>er_dev_device_type_ig_ctx_red_elapsed_since_page_load_med</th>\n",
       "      <th>er_dev_device_type_ig_ctx_red_viewed_percent_med</th>\n",
       "      <th>er_dev_manufacture_ucnt</th>\n",
       "      <th>er_dev_manufacture_ig_ctx_red_elapsed_since_page_load_med</th>\n",
       "      <th>er_dev_manufacture_ig_ctx_red_viewed_percent_med</th>\n",
       "      <th>er_dev_os_family_ucnt</th>\n",
       "      <th>er_dev_os_family_ig_ctx_red_elapsed_since_page_load_med</th>\n",
       "      <th>er_dev_os_family_ig_ctx_red_viewed_percent_med</th>\n",
       "      <th>er_dev_os_version_ucnt</th>\n",
       "      <th>er_dev_os_version_ig_ctx_red_elapsed_since_page_load_med</th>\n",
       "      <th>er_dev_os_version_ig_ctx_red_viewed_percent_med</th>\n",
       "      <th>er_rfs_reffered_visit_ucnt</th>\n",
       "      <th>er_rfs_reffered_visit_ig_ctx_red_elapsed_since_page_load_med</th>\n",
       "      <th>er_rfs_reffered_visit_ig_ctx_red_viewed_percent_med</th>\n",
       "      <th>er_rfs_service_name_ucnt</th>\n",
       "      <th>er_rfs_service_name_ig_ctx_red_elapsed_since_page_load_med</th>\n",
       "      <th>er_rfs_service_name_ig_ctx_red_viewed_percent_med</th>\n",
       "      <th>er_rfs_service_type_ucnt</th>\n",
       "      <th>er_rfs_service_type_ig_ctx_red_elapsed_since_page_load_med</th>\n",
       "      <th>er_rfs_service_type_ig_ctx_red_viewed_percent_med</th>\n",
       "      <th>er_geo_bc_flag_ucnt</th>\n",
       "      <th>er_geo_bc_flag_ig_ctx_red_elapsed_since_page_load_med</th>\n",
       "      <th>er_geo_bc_flag_ig_ctx_red_viewed_percent_med</th>\n",
       "    </tr>\n",
       "  </thead>\n",
       "  <tbody>\n",
       "  </tbody>\n",
       "</table>\n",
       "</div>"
      ],
      "text/plain": [
       "Empty DataFrame\n",
       "Columns: [level_0, index, user_id, ig_ctx_product_ucnt, ig_ctx_product_ig_ctx_red_elapsed_since_page_load_med, ig_ctx_product_ig_ctx_red_viewed_percent_med, er_geo_pref_j_name_ucnt, er_geo_pref_j_name_ig_ctx_red_elapsed_since_page_load_med, er_geo_pref_j_name_ig_ctx_red_viewed_percent_med, er_geo_country_code_ucnt, er_geo_country_code_ig_ctx_red_elapsed_since_page_load_med, er_geo_country_code_ig_ctx_red_viewed_percent_med, er_dev_browser_family_ucnt, er_dev_browser_family_ig_ctx_red_elapsed_since_page_load_med, er_dev_browser_family_ig_ctx_red_viewed_percent_med, er_dev_device_type_ucnt, er_dev_device_type_ig_ctx_red_elapsed_since_page_load_med, er_dev_device_type_ig_ctx_red_viewed_percent_med, er_dev_manufacture_ucnt, er_dev_manufacture_ig_ctx_red_elapsed_since_page_load_med, er_dev_manufacture_ig_ctx_red_viewed_percent_med, er_dev_os_family_ucnt, er_dev_os_family_ig_ctx_red_elapsed_since_page_load_med, er_dev_os_family_ig_ctx_red_viewed_percent_med, er_dev_os_version_ucnt, er_dev_os_version_ig_ctx_red_elapsed_since_page_load_med, er_dev_os_version_ig_ctx_red_viewed_percent_med, er_rfs_reffered_visit_ucnt, er_rfs_reffered_visit_ig_ctx_red_elapsed_since_page_load_med, er_rfs_reffered_visit_ig_ctx_red_viewed_percent_med, er_rfs_service_name_ucnt, er_rfs_service_name_ig_ctx_red_elapsed_since_page_load_med, er_rfs_service_name_ig_ctx_red_viewed_percent_med, er_rfs_service_type_ucnt, er_rfs_service_type_ig_ctx_red_elapsed_since_page_load_med, er_rfs_service_type_ig_ctx_red_viewed_percent_med, er_geo_bc_flag_ucnt, er_geo_bc_flag_ig_ctx_red_elapsed_since_page_load_med, er_geo_bc_flag_ig_ctx_red_viewed_percent_med]\n",
       "Index: []"
      ]
     },
     "execution_count": 930,
     "metadata": {},
     "output_type": "execute_result"
    }
   ],
   "source": [
    "df_cat.reset_index(inplace=True)\n",
    "df_cat.head(0)"
   ]
  },
  {
   "cell_type": "code",
   "execution_count": 892,
   "metadata": {},
   "outputs": [
    {
     "data": {
      "text/plain": [
       "index                                                               0\n",
       "user_id                                                             0\n",
       "ig_ctx_product_ucnt                                                 0\n",
       "ig_ctx_product_ig_ctx_red_elapsed_since_page_load_med               0\n",
       "ig_ctx_product_ig_ctx_red_viewed_percent_med                        0\n",
       "er_geo_pref_j_name_ucnt                                             0\n",
       "er_geo_pref_j_name_ig_ctx_red_elapsed_since_page_load_med           0\n",
       "er_geo_pref_j_name_ig_ctx_red_viewed_percent_med                    0\n",
       "er_geo_country_code_ucnt                                            0\n",
       "er_geo_country_code_ig_ctx_red_elapsed_since_page_load_med          0\n",
       "er_geo_country_code_ig_ctx_red_viewed_percent_med                   0\n",
       "er_dev_browser_family_ucnt                                          0\n",
       "er_dev_browser_family_ig_ctx_red_elapsed_since_page_load_med        0\n",
       "er_dev_browser_family_ig_ctx_red_viewed_percent_med                 0\n",
       "er_dev_device_type_ucnt                                             0\n",
       "er_dev_device_type_ig_ctx_red_elapsed_since_page_load_med           0\n",
       "er_dev_device_type_ig_ctx_red_viewed_percent_med                    0\n",
       "er_dev_manufacture_ucnt                                             0\n",
       "er_dev_manufacture_ig_ctx_red_elapsed_since_page_load_med           0\n",
       "er_dev_manufacture_ig_ctx_red_viewed_percent_med                    0\n",
       "er_dev_os_family_ucnt                                               0\n",
       "er_dev_os_family_ig_ctx_red_elapsed_since_page_load_med             0\n",
       "er_dev_os_family_ig_ctx_red_viewed_percent_med                      0\n",
       "er_dev_os_version_ucnt                                              0\n",
       "er_dev_os_version_ig_ctx_red_elapsed_since_page_load_med        20101\n",
       "er_dev_os_version_ig_ctx_red_viewed_percent_med                 20101\n",
       "er_rfs_reffered_visit_ucnt                                          0\n",
       "er_rfs_reffered_visit_ig_ctx_red_elapsed_since_page_load_med        0\n",
       "er_rfs_reffered_visit_ig_ctx_red_viewed_percent_med                 0\n",
       "er_rfs_service_name_ucnt                                            0\n",
       "er_rfs_service_name_ig_ctx_red_elapsed_since_page_load_med          0\n",
       "er_rfs_service_name_ig_ctx_red_viewed_percent_med                   0\n",
       "er_rfs_service_type_ucnt                                            0\n",
       "er_rfs_service_type_ig_ctx_red_elapsed_since_page_load_med          0\n",
       "er_rfs_service_type_ig_ctx_red_viewed_percent_med                   0\n",
       "er_geo_bc_flag_ucnt                                                 0\n",
       "er_geo_bc_flag_ig_ctx_red_elapsed_since_page_load_med               0\n",
       "er_geo_bc_flag_ig_ctx_red_viewed_percent_med                        0\n",
       "dtype: int64"
      ]
     },
     "execution_count": 892,
     "metadata": {},
     "output_type": "execute_result"
    }
   ],
   "source": [
    "df_cat.isnull().sum()"
   ]
  },
  {
   "cell_type": "code",
   "execution_count": 893,
   "metadata": {},
   "outputs": [
    {
     "name": "stdout",
     "output_type": "stream",
     "text": [
      "CPU times: user 2.7 s, sys: 400 ms, total: 3.1 s\n",
      "Wall time: 1.19 s\n"
     ]
    }
   ],
   "source": [
    "%%time\n",
    "device_map = pd.DataFrame(train_df[train_df['er_dev_device_name'].isin(common_device)].reset_index()\\\n",
    ".groupby('er_dev_device_name')['age'].mean()).to_dict()\n",
    "device_map  = device_map['age']\n",
    "df_cat_all['er_dev_device_name'] =  df_cat_all['er_dev_device_name'].map(device_map)\n",
    "df_cat_all['er_dev_device_name'] = df_cat_all['er_dev_device_name'].fillna(df_cat_all['er_dev_device_name'].mean())"
   ]
  },
  {
   "cell_type": "code",
   "execution_count": 894,
   "metadata": {},
   "outputs": [],
   "source": [
    "df_cat_dev = pd.DataFrame()\n",
    "df_cat_dev['dev_age'] = df_cat_all.groupby('user_id')['er_dev_device_name'].mean()\n",
    "df_cat_dev.reset_index(inplace=True)"
   ]
  },
  {
   "cell_type": "code",
   "execution_count": 896,
   "metadata": {},
   "outputs": [],
   "source": [
    "df_num = pd.merge(df_num, df_cat_dev, on = 'user_id', how ='left')"
   ]
  },
  {
   "cell_type": "code",
   "execution_count": 898,
   "metadata": {},
   "outputs": [
    {
     "data": {
      "text/plain": [
       "(23487, 38)"
      ]
     },
     "execution_count": 898,
     "metadata": {},
     "output_type": "execute_result"
    }
   ],
   "source": [
    "df_cat.shape"
   ]
  },
  {
   "cell_type": "code",
   "execution_count": 899,
   "metadata": {},
   "outputs": [
    {
     "data": {
      "text/plain": [
       "(23487, 24)"
      ]
     },
     "execution_count": 899,
     "metadata": {},
     "output_type": "execute_result"
    }
   ],
   "source": [
    "df_num.shape"
   ]
  },
  {
   "cell_type": "markdown",
   "metadata": {},
   "source": [
    "## 数値とカテゴリのマージ"
   ]
  },
  {
   "cell_type": "code",
   "execution_count": 900,
   "metadata": {},
   "outputs": [
    {
     "data": {
      "text/plain": [
       "(23487, 61)"
      ]
     },
     "execution_count": 900,
     "metadata": {},
     "output_type": "execute_result"
    }
   ],
   "source": [
    "df = pd.merge(df_num, df_cat, on = 'user_id', how='left')\n",
    "df.shape"
   ]
  },
  {
   "cell_type": "markdown",
   "metadata": {},
   "source": [
    "## モデルデータ用意"
   ]
  },
  {
   "cell_type": "code",
   "execution_count": 931,
   "metadata": {},
   "outputs": [],
   "source": [
    "train = df.loc[df.user_id.isin(train_df.user_id.unique()),:]\n",
    "train.reset_index(inplace=True, drop=True)"
   ]
  },
  {
   "cell_type": "code",
   "execution_count": 932,
   "metadata": {},
   "outputs": [],
   "source": [
    "test = df.loc[df.user_id.isin(sub_df.user_id.values),:]\n",
    "test.reset_index(inplace=True, drop=True)"
   ]
  },
  {
   "cell_type": "code",
   "execution_count": 904,
   "metadata": {},
   "outputs": [
    {
     "name": "stdout",
     "output_type": "stream",
     "text": [
      "Memory usage of dataframe is 6.56 MB\n",
      "Memory usage after optimization is: 2.63 MB\n",
      "Decreased by 59.8%\n",
      "Memory usage of dataframe is 4.37 MB\n",
      "Memory usage after optimization is: 1.76 MB\n",
      "Decreased by 59.8%\n",
      "CPU times: user 188 ms, sys: 24 ms, total: 212 ms\n",
      "Wall time: 216 ms\n"
     ]
    }
   ],
   "source": [
    "%%time\n",
    "train = reduce_mem_usage(train)\n",
    "test = reduce_mem_usage(test)"
   ]
  },
  {
   "cell_type": "markdown",
   "metadata": {},
   "source": [
    "## Base Model"
   ]
  },
  {
   "cell_type": "code",
   "execution_count": 938,
   "metadata": {},
   "outputs": [],
   "source": [
    "target = pd.DataFrame(train_df.groupby('user_id')['age'].max())\n",
    "target.reset_index(inplace=True, drop=False)\n",
    "target['age_range'] = pd.cut(target['age'],20,labels=False)\n",
    "train_y  = target.age.values.ravel()\n",
    "#train_y = np.log1p(target.age.values.ravel())"
   ]
  },
  {
   "cell_type": "code",
   "execution_count": 939,
   "metadata": {},
   "outputs": [
    {
     "data": {
      "text/plain": [
       "60"
      ]
     },
     "execution_count": 939,
     "metadata": {},
     "output_type": "execute_result"
    }
   ],
   "source": [
    "rm_list = ['user_id', 'kiji_id']\n",
    "features = [var for var in train.columns if var not in rm_list]\n",
    "len(features)"
   ]
  },
  {
   "cell_type": "code",
   "execution_count": 942,
   "metadata": {},
   "outputs": [
    {
     "name": "stdout",
     "output_type": "stream",
     "text": [
      "Training until validation scores don't improve for 100 rounds\n",
      "[200]\ttraining's l1: 9.18051\tvalid_1's l1: 10.0029\n",
      "[400]\ttraining's l1: 8.27572\tvalid_1's l1: 9.80743\n",
      "[600]\ttraining's l1: 7.71358\tvalid_1's l1: 9.7844\n",
      "Early stopping, best iteration is:\n",
      "[549]\ttraining's l1: 7.8415\tvalid_1's l1: 9.77968\n",
      "Training until validation scores don't improve for 100 rounds\n",
      "[200]\ttraining's l1: 9.15503\tvalid_1's l1: 10.106\n",
      "[400]\ttraining's l1: 8.26214\tvalid_1's l1: 9.93643\n",
      "[600]\ttraining's l1: 7.70525\tvalid_1's l1: 9.92242\n",
      "Early stopping, best iteration is:\n",
      "[544]\ttraining's l1: 7.85394\tvalid_1's l1: 9.91763\n",
      "Training until validation scores don't improve for 100 rounds\n",
      "[200]\ttraining's l1: 9.10473\tvalid_1's l1: 10.2216\n",
      "[400]\ttraining's l1: 8.20846\tvalid_1's l1: 10.1053\n",
      "[600]\ttraining's l1: 7.61952\tvalid_1's l1: 10.106\n",
      "Early stopping, best iteration is:\n",
      "[514]\ttraining's l1: 7.8557\tvalid_1's l1: 10.097\n",
      "Training until validation scores don't improve for 100 rounds\n",
      "[200]\ttraining's l1: 9.17631\tvalid_1's l1: 10.0573\n",
      "[400]\ttraining's l1: 8.29766\tvalid_1's l1: 9.84332\n",
      "[600]\ttraining's l1: 7.74134\tvalid_1's l1: 9.79706\n",
      "[800]\ttraining's l1: 7.2672\tvalid_1's l1: 9.78646\n",
      "Early stopping, best iteration is:\n",
      "[846]\ttraining's l1: 7.16833\tvalid_1's l1: 9.78197\n",
      "Training until validation scores don't improve for 100 rounds\n",
      "[200]\ttraining's l1: 9.18801\tvalid_1's l1: 9.95863\n",
      "[400]\ttraining's l1: 8.30359\tvalid_1's l1: 9.77606\n",
      "[600]\ttraining's l1: 7.73997\tvalid_1's l1: 9.73921\n",
      "Early stopping, best iteration is:\n",
      "[636]\ttraining's l1: 7.64784\tvalid_1's l1: 9.73677\n"
     ]
    }
   ],
   "source": [
    "param_lgb = {'num_leaves': 256,\n",
    "              'min_child_samples': 79,\n",
    "              'objective': 'regression',\n",
    "              'max_depth': 16,\n",
    "              'learning_rate': 0.01,\n",
    "              \"boosting_type\": \"gbdt\",\n",
    "              \"subsample_freq\": 3,\n",
    "              \"subsample\": 0.9,\n",
    "              \"bagging_seed\": 666*(i+1),\n",
    "              \"metric\": 'mae',\n",
    "              \"verbosity\": -1,\n",
    "              'reg_alpha': 0.3,\n",
    "              'reg_lambda': 0.3,\n",
    "              'colsample_bytree': 0.9,\n",
    "              #'categorical_feature': cat_list\n",
    "             }\n",
    "param = param_lgb\n",
    "for fold_, (trn_idx, val_idx) in enumerate(folds.split(train, target['age_range'].values)):\n",
    "        #strLog = f'Fold {fold_ + 1} started at {time.ctime()}'\n",
    "        #print(strLog)\n",
    "\n",
    "        X_tr, X_val = train.iloc[trn_idx][features], train.iloc[val_idx][features]\n",
    "        y_tr, y_val = train_y[trn_idx], train_y[val_idx]\n",
    "\n",
    "\n",
    "        trn_data = lgb.Dataset(X_tr, label=y_tr)\n",
    "        val_data = lgb.Dataset(X_val, label=y_val)\n",
    "\n",
    "        model = lgb.train(param, trn_data, num_round, valid_sets = [trn_data, val_data], verbose_eval=200,\n",
    "                  early_stopping_rounds = 100)\n",
    "        oof[val_idx] +=  model.predict(X_val, num_iteration=model.best_iteration)/bag_num\n",
    "        #predictions\n",
    "        predictions += model.predict(test[features]) / (folds.n_splits*bag_num)\n",
    "        \n",
    "        #oof[val_idx] += (np.exp(model.predict(X_val, num_iteration=model.best_iteration)) -1)/bag_num\n",
    "        #predictions\n",
    "        #predictions += (np.exp(model.predict(test[features]) ) -1)/ (folds.n_splits*bag_num)\n",
    "        fold_importance_df = pd.DataFrame()\n",
    "        fold_importance_df[\"Feature\"] = features\n",
    "        fold_importance_df[\"importance\"] = model.feature_importance(importance_type='gain')\n",
    "        fold_importance_df[\"fold\"] = fold_ + 1\n",
    "        feature_importance_df = pd.concat([feature_importance_df, fold_importance_df], axis=0)"
   ]
  },
  {
   "cell_type": "code",
   "execution_count": 944,
   "metadata": {
    "scrolled": true
   },
   "outputs": [
    {
     "name": "stdout",
     "output_type": "stream",
     "text": [
      "CPU times: user 2.54 s, sys: 52 ms, total: 2.59 s\n",
      "Wall time: 2.59 s\n"
     ]
    },
    {
     "data": {
      "image/png": "[encoded data removed]",
      "text/plain": [
       "<Figure size 1008x2520 with 1 Axes>"
      ]
     },
     "metadata": {
      "needs_background": "light"
     },
     "output_type": "display_data"
    }
   ],
   "source": [
    "%%time\n",
    "cols = (feature_importance_df[[\"Feature\", \"importance\"]]\n",
    "        .groupby(\"Feature\")\n",
    "        .mean()\n",
    "        .sort_values(by=\"importance\", ascending=False)[:300].index)\n",
    "\n",
    "best_features = feature_importance_df.loc[feature_importance_df.Feature.isin(cols)]\n",
    "plt.figure(figsize=(14,35))\n",
    "sns.barplot(x=\"importance\", y=\"Feature\", data=best_features.sort_values(by=\"importance\",ascending=False))\n",
    "plt.title('LightGBM Features (averaged over folds) for type')\n",
    "plt.tight_layout()"
   ]
  },
  {
   "cell_type": "code",
   "execution_count": 907,
   "metadata": {},
   "outputs": [
    {
     "name": "stdout",
     "output_type": "stream",
     "text": [
      "Training until validation scores don't improve for 100 rounds\n",
      "[200]\ttraining's l1: 9.18082\tvalid_1's l1: 10.005\n",
      "[400]\ttraining's l1: 8.27802\tvalid_1's l1: 9.82576\n",
      "[600]\ttraining's l1: 7.71742\tvalid_1's l1: 9.7825\n",
      "Early stopping, best iteration is:\n",
      "[688]\ttraining's l1: 7.49135\tvalid_1's l1: 9.77685\n",
      "Training until validation scores don't improve for 100 rounds\n",
      "[200]\ttraining's l1: 9.16224\tvalid_1's l1: 10.0965\n",
      "[400]\ttraining's l1: 8.27822\tvalid_1's l1: 9.93326\n",
      "[600]\ttraining's l1: 7.73203\tvalid_1's l1: 9.91634\n",
      "Early stopping, best iteration is:\n",
      "[666]\ttraining's l1: 7.57047\tvalid_1's l1: 9.91227\n",
      "Training until validation scores don't improve for 100 rounds\n",
      "[200]\ttraining's l1: 9.10236\tvalid_1's l1: 10.2216\n",
      "[400]\ttraining's l1: 8.20242\tvalid_1's l1: 10.1101\n",
      "Early stopping, best iteration is:\n",
      "[429]\ttraining's l1: 8.10228\tvalid_1's l1: 10.1062\n",
      "Training until validation scores don't improve for 100 rounds\n",
      "[200]\ttraining's l1: 9.17364\tvalid_1's l1: 10.0535\n",
      "[400]\ttraining's l1: 8.28789\tvalid_1's l1: 9.84862\n",
      "[600]\ttraining's l1: 7.73822\tvalid_1's l1: 9.80439\n",
      "Early stopping, best iteration is:\n",
      "[629]\ttraining's l1: 7.66685\tvalid_1's l1: 9.80097\n",
      "Training until validation scores don't improve for 100 rounds\n",
      "[200]\ttraining's l1: 9.18743\tvalid_1's l1: 9.9473\n",
      "[400]\ttraining's l1: 8.29842\tvalid_1's l1: 9.75845\n",
      "[600]\ttraining's l1: 7.73267\tvalid_1's l1: 9.72254\n",
      "Early stopping, best iteration is:\n",
      "[627]\ttraining's l1: 7.67192\tvalid_1's l1: 9.72068\n",
      "Training until validation scores don't improve for 100 rounds\n",
      "[200]\ttraining's l1: 9.17161\tvalid_1's l1: 10.0084\n",
      "[400]\ttraining's l1: 8.27775\tvalid_1's l1: 9.82596\n",
      "[600]\ttraining's l1: 7.71757\tvalid_1's l1: 9.80076\n",
      "Early stopping, best iteration is:\n",
      "[643]\ttraining's l1: 7.61136\tvalid_1's l1: 9.7989\n",
      "Training until validation scores don't improve for 100 rounds\n",
      "[200]\ttraining's l1: 9.15933\tvalid_1's l1: 10.1182\n",
      "[400]\ttraining's l1: 8.27565\tvalid_1's l1: 9.94393\n",
      "[600]\ttraining's l1: 7.72044\tvalid_1's l1: 9.91914\n",
      "Early stopping, best iteration is:\n",
      "[565]\ttraining's l1: 7.80411\tvalid_1's l1: 9.91583\n",
      "Training until validation scores don't improve for 100 rounds\n",
      "[200]\ttraining's l1: 9.10484\tvalid_1's l1: 10.2326\n",
      "[400]\ttraining's l1: 8.22075\tvalid_1's l1: 10.1089\n",
      "[600]\ttraining's l1: 7.6526\tvalid_1's l1: 10.1046\n",
      "Early stopping, best iteration is:\n",
      "[501]\ttraining's l1: 7.91578\tvalid_1's l1: 10.096\n",
      "Training until validation scores don't improve for 100 rounds\n",
      "[200]\ttraining's l1: 9.17615\tvalid_1's l1: 10.0609\n",
      "[400]\ttraining's l1: 8.30764\tvalid_1's l1: 9.85335\n",
      "[600]\ttraining's l1: 7.74334\tvalid_1's l1: 9.79648\n",
      "[800]\ttraining's l1: 7.29049\tvalid_1's l1: 9.79301\n",
      "Early stopping, best iteration is:\n",
      "[825]\ttraining's l1: 7.23815\tvalid_1's l1: 9.78878\n",
      "Training until validation scores don't improve for 100 rounds\n",
      "[200]\ttraining's l1: 9.18547\tvalid_1's l1: 9.94314\n",
      "[400]\ttraining's l1: 8.29087\tvalid_1's l1: 9.76249\n",
      "[600]\ttraining's l1: 7.73208\tvalid_1's l1: 9.7325\n",
      "Early stopping, best iteration is:\n",
      "[589]\ttraining's l1: 7.76234\tvalid_1's l1: 9.73051\n",
      "Training until validation scores don't improve for 100 rounds\n",
      "[200]\ttraining's l1: 9.18112\tvalid_1's l1: 10.0039\n",
      "[400]\ttraining's l1: 8.28569\tvalid_1's l1: 9.82219\n",
      "[600]\ttraining's l1: 7.7137\tvalid_1's l1: 9.79112\n",
      "Early stopping, best iteration is:\n",
      "[608]\ttraining's l1: 7.69363\tvalid_1's l1: 9.78964\n",
      "Training until validation scores don't improve for 100 rounds\n",
      "[200]\ttraining's l1: 9.16166\tvalid_1's l1: 10.0944\n",
      "[400]\ttraining's l1: 8.27166\tvalid_1's l1: 9.92615\n",
      "[600]\ttraining's l1: 7.73045\tvalid_1's l1: 9.90151\n",
      "[800]\ttraining's l1: 7.28591\tvalid_1's l1: 9.90539\n",
      "Early stopping, best iteration is:\n",
      "[704]\ttraining's l1: 7.48442\tvalid_1's l1: 9.89527\n",
      "Training until validation scores don't improve for 100 rounds\n",
      "[200]\ttraining's l1: 9.10212\tvalid_1's l1: 10.2535\n",
      "[400]\ttraining's l1: 8.21943\tvalid_1's l1: 10.1465\n",
      "Early stopping, best iteration is:\n",
      "[482]\ttraining's l1: 7.96988\tvalid_1's l1: 10.1375\n",
      "Training until validation scores don't improve for 100 rounds\n",
      "[200]\ttraining's l1: 9.17209\tvalid_1's l1: 10.0436\n",
      "[400]\ttraining's l1: 8.29117\tvalid_1's l1: 9.8442\n",
      "[600]\ttraining's l1: 7.73873\tvalid_1's l1: 9.804\n",
      "[800]\ttraining's l1: 7.28143\tvalid_1's l1: 9.79441\n",
      "[1000]\ttraining's l1: 6.89248\tvalid_1's l1: 9.78874\n",
      "Did not meet early stopping. Best iteration is:\n",
      "[1000]\ttraining's l1: 6.89248\tvalid_1's l1: 9.78874\n",
      "Training until validation scores don't improve for 100 rounds\n",
      "[200]\ttraining's l1: 9.18884\tvalid_1's l1: 9.98011\n",
      "[400]\ttraining's l1: 8.2992\tvalid_1's l1: 9.79513\n",
      "[600]\ttraining's l1: 7.72871\tvalid_1's l1: 9.75038\n",
      "Early stopping, best iteration is:\n",
      "[686]\ttraining's l1: 7.52642\tvalid_1's l1: 9.74883\n",
      "Training until validation scores don't improve for 100 rounds\n",
      "[200]\ttraining's l1: 9.17635\tvalid_1's l1: 9.99704\n",
      "[400]\ttraining's l1: 8.2889\tvalid_1's l1: 9.82147\n",
      "[600]\ttraining's l1: 7.71581\tvalid_1's l1: 9.78749\n",
      "[800]\ttraining's l1: 7.24728\tvalid_1's l1: 9.78354\n",
      "Early stopping, best iteration is:\n",
      "[756]\ttraining's l1: 7.35068\tvalid_1's l1: 9.77949\n",
      "Training until validation scores don't improve for 100 rounds\n",
      "[200]\ttraining's l1: 9.16032\tvalid_1's l1: 10.1159\n",
      "[400]\ttraining's l1: 8.28123\tvalid_1's l1: 9.94892\n",
      "[600]\ttraining's l1: 7.70406\tvalid_1's l1: 9.91484\n",
      "Early stopping, best iteration is:\n",
      "[699]\ttraining's l1: 7.48619\tvalid_1's l1: 9.91216\n",
      "Training until validation scores don't improve for 100 rounds\n",
      "[200]\ttraining's l1: 9.10526\tvalid_1's l1: 10.2295\n",
      "[400]\ttraining's l1: 8.21005\tvalid_1's l1: 10.1036\n",
      "Early stopping, best iteration is:\n",
      "[474]\ttraining's l1: 7.98631\tvalid_1's l1: 10.0951\n",
      "Training until validation scores don't improve for 100 rounds\n",
      "[200]\ttraining's l1: 9.17355\tvalid_1's l1: 10.0572\n",
      "[400]\ttraining's l1: 8.28957\tvalid_1's l1: 9.85539\n",
      "[600]\ttraining's l1: 7.72624\tvalid_1's l1: 9.7976\n",
      "[800]\ttraining's l1: 7.24883\tvalid_1's l1: 9.79391\n",
      "Early stopping, best iteration is:\n",
      "[743]\ttraining's l1: 7.37977\tvalid_1's l1: 9.78523\n",
      "Training until validation scores don't improve for 100 rounds\n",
      "[200]\ttraining's l1: 9.17651\tvalid_1's l1: 9.95318\n",
      "[400]\ttraining's l1: 8.29506\tvalid_1's l1: 9.77927\n",
      "[600]\ttraining's l1: 7.73232\tvalid_1's l1: 9.74319\n",
      "Early stopping, best iteration is:\n",
      "[615]\ttraining's l1: 7.69623\tvalid_1's l1: 9.74081\n",
      "Training until validation scores don't improve for 100 rounds\n",
      "[200]\ttraining's l1: 9.17873\tvalid_1's l1: 9.99538\n",
      "[400]\ttraining's l1: 8.28327\tvalid_1's l1: 9.7981\n",
      "[600]\ttraining's l1: 7.71657\tvalid_1's l1: 9.76596\n",
      "Early stopping, best iteration is:\n",
      "[616]\ttraining's l1: 7.6758\tvalid_1's l1: 9.76325\n",
      "Training until validation scores don't improve for 100 rounds\n",
      "[200]\ttraining's l1: 9.15854\tvalid_1's l1: 10.0874\n",
      "[400]\ttraining's l1: 8.2691\tvalid_1's l1: 9.92873\n",
      "[600]\ttraining's l1: 7.7158\tvalid_1's l1: 9.91614\n",
      "Early stopping, best iteration is:\n",
      "[561]\ttraining's l1: 7.81156\tvalid_1's l1: 9.91499\n",
      "Training until validation scores don't improve for 100 rounds\n",
      "[200]\ttraining's l1: 9.10868\tvalid_1's l1: 10.2393\n",
      "[400]\ttraining's l1: 8.20599\tvalid_1's l1: 10.1292\n",
      "[600]\ttraining's l1: 7.63301\tvalid_1's l1: 10.1295\n",
      "Early stopping, best iteration is:\n",
      "[506]\ttraining's l1: 7.87941\tvalid_1's l1: 10.122\n",
      "Training until validation scores don't improve for 100 rounds\n",
      "[200]\ttraining's l1: 9.17583\tvalid_1's l1: 10.0496\n",
      "[400]\ttraining's l1: 8.29726\tvalid_1's l1: 9.84369\n",
      "[600]\ttraining's l1: 7.73456\tvalid_1's l1: 9.79044\n",
      "[800]\ttraining's l1: 7.27664\tvalid_1's l1: 9.77256\n",
      "Early stopping, best iteration is:\n",
      "[882]\ttraining's l1: 7.10262\tvalid_1's l1: 9.76794\n",
      "Training until validation scores don't improve for 100 rounds\n",
      "[200]\ttraining's l1: 9.17958\tvalid_1's l1: 9.94669\n",
      "[400]\ttraining's l1: 8.31188\tvalid_1's l1: 9.76125\n",
      "[600]\ttraining's l1: 7.73348\tvalid_1's l1: 9.72673\n",
      "Early stopping, best iteration is:\n",
      "[625]\ttraining's l1: 7.66411\tvalid_1's l1: 9.72241\n",
      "Training until validation scores don't improve for 100 rounds\n",
      "[200]\ttraining's l1: 9.18006\tvalid_1's l1: 10.0158\n",
      "[400]\ttraining's l1: 8.29153\tvalid_1's l1: 9.82509\n",
      "[600]\ttraining's l1: 7.71793\tvalid_1's l1: 9.79382\n",
      "Early stopping, best iteration is:\n",
      "[673]\ttraining's l1: 7.54253\tvalid_1's l1: 9.78975\n",
      "Training until validation scores don't improve for 100 rounds\n",
      "[200]\ttraining's l1: 9.15669\tvalid_1's l1: 10.1286\n",
      "[400]\ttraining's l1: 8.26157\tvalid_1's l1: 9.95499\n",
      "[600]\ttraining's l1: 7.69796\tvalid_1's l1: 9.93392\n"
     ]
    },
    {
     "name": "stdout",
     "output_type": "stream",
     "text": [
      "Early stopping, best iteration is:\n",
      "[591]\ttraining's l1: 7.72057\tvalid_1's l1: 9.93353\n",
      "Training until validation scores don't improve for 100 rounds\n",
      "[200]\ttraining's l1: 9.10906\tvalid_1's l1: 10.2195\n",
      "[400]\ttraining's l1: 8.22972\tvalid_1's l1: 10.1046\n",
      "Early stopping, best iteration is:\n",
      "[423]\ttraining's l1: 8.14945\tvalid_1's l1: 10.1003\n",
      "Training until validation scores don't improve for 100 rounds\n",
      "[200]\ttraining's l1: 9.17836\tvalid_1's l1: 10.0511\n",
      "[400]\ttraining's l1: 8.29694\tvalid_1's l1: 9.84437\n",
      "[600]\ttraining's l1: 7.74211\tvalid_1's l1: 9.80861\n",
      "[800]\ttraining's l1: 7.26366\tvalid_1's l1: 9.79886\n",
      "[1000]\ttraining's l1: 6.87134\tvalid_1's l1: 9.79425\n",
      "Did not meet early stopping. Best iteration is:\n",
      "[1000]\ttraining's l1: 6.87134\tvalid_1's l1: 9.79425\n",
      "Training until validation scores don't improve for 100 rounds\n",
      "[200]\ttraining's l1: 9.18014\tvalid_1's l1: 9.94886\n",
      "[400]\ttraining's l1: 8.28738\tvalid_1's l1: 9.77788\n",
      "[600]\ttraining's l1: 7.72181\tvalid_1's l1: 9.74643\n",
      "[800]\ttraining's l1: 7.26612\tvalid_1's l1: 9.74185\n",
      "Early stopping, best iteration is:\n",
      "[706]\ttraining's l1: 7.48211\tvalid_1's l1: 9.73807\n",
      "Training until validation scores don't improve for 100 rounds\n",
      "[200]\ttraining's l1: 9.1848\tvalid_1's l1: 9.99377\n",
      "[400]\ttraining's l1: 8.29401\tvalid_1's l1: 9.81427\n",
      "[600]\ttraining's l1: 7.7105\tvalid_1's l1: 9.77688\n",
      "Early stopping, best iteration is:\n",
      "[583]\ttraining's l1: 7.75338\tvalid_1's l1: 9.77328\n",
      "Training until validation scores don't improve for 100 rounds\n",
      "[200]\ttraining's l1: 9.15181\tvalid_1's l1: 10.1146\n",
      "[400]\ttraining's l1: 8.26866\tvalid_1's l1: 9.95799\n",
      "[600]\ttraining's l1: 7.72083\tvalid_1's l1: 9.93459\n",
      "Early stopping, best iteration is:\n",
      "[560]\ttraining's l1: 7.82546\tvalid_1's l1: 9.93335\n",
      "Training until validation scores don't improve for 100 rounds\n",
      "[200]\ttraining's l1: 9.10324\tvalid_1's l1: 10.2355\n",
      "[400]\ttraining's l1: 8.21506\tvalid_1's l1: 10.1269\n",
      "[600]\ttraining's l1: 7.63483\tvalid_1's l1: 10.1269\n",
      "Early stopping, best iteration is:\n",
      "[510]\ttraining's l1: 7.87725\tvalid_1's l1: 10.118\n",
      "Training until validation scores don't improve for 100 rounds\n",
      "[200]\ttraining's l1: 9.16613\tvalid_1's l1: 10.047\n",
      "[400]\ttraining's l1: 8.30122\tvalid_1's l1: 9.83808\n",
      "[600]\ttraining's l1: 7.73165\tvalid_1's l1: 9.78751\n",
      "[800]\ttraining's l1: 7.27046\tvalid_1's l1: 9.77457\n",
      "Early stopping, best iteration is:\n",
      "[811]\ttraining's l1: 7.2455\tvalid_1's l1: 9.77253\n",
      "Training until validation scores don't improve for 100 rounds\n",
      "[200]\ttraining's l1: 9.18226\tvalid_1's l1: 9.95758\n",
      "[400]\ttraining's l1: 8.29797\tvalid_1's l1: 9.77635\n",
      "[600]\ttraining's l1: 7.72551\tvalid_1's l1: 9.74571\n",
      "Early stopping, best iteration is:\n",
      "[646]\ttraining's l1: 7.61781\tvalid_1's l1: 9.74509\n",
      "Training until validation scores don't improve for 100 rounds\n",
      "[200]\ttraining's l1: 9.17935\tvalid_1's l1: 10.004\n",
      "[400]\ttraining's l1: 8.30576\tvalid_1's l1: 9.81137\n",
      "[600]\ttraining's l1: 7.73184\tvalid_1's l1: 9.76376\n",
      "Early stopping, best iteration is:\n",
      "[664]\ttraining's l1: 7.57217\tvalid_1's l1: 9.76177\n",
      "Training until validation scores don't improve for 100 rounds\n",
      "[200]\ttraining's l1: 9.15941\tvalid_1's l1: 10.1182\n",
      "[400]\ttraining's l1: 8.28269\tvalid_1's l1: 9.94223\n",
      "[600]\ttraining's l1: 7.72172\tvalid_1's l1: 9.9205\n",
      "Early stopping, best iteration is:\n",
      "[642]\ttraining's l1: 7.6247\tvalid_1's l1: 9.91564\n",
      "Training until validation scores don't improve for 100 rounds\n",
      "[200]\ttraining's l1: 9.0981\tvalid_1's l1: 10.2471\n",
      "[400]\ttraining's l1: 8.20754\tvalid_1's l1: 10.1269\n",
      "Early stopping, best iteration is:\n",
      "[466]\ttraining's l1: 7.99948\tvalid_1's l1: 10.1233\n",
      "Training until validation scores don't improve for 100 rounds\n",
      "[200]\ttraining's l1: 9.17814\tvalid_1's l1: 10.0559\n",
      "[400]\ttraining's l1: 8.31952\tvalid_1's l1: 9.85775\n",
      "[600]\ttraining's l1: 7.75166\tvalid_1's l1: 9.80982\n",
      "Early stopping, best iteration is:\n",
      "[680]\ttraining's l1: 7.56209\tvalid_1's l1: 9.80278\n",
      "Training until validation scores don't improve for 100 rounds\n",
      "[200]\ttraining's l1: 9.1832\tvalid_1's l1: 9.94291\n",
      "[400]\ttraining's l1: 8.29846\tvalid_1's l1: 9.76348\n",
      "[600]\ttraining's l1: 7.73532\tvalid_1's l1: 9.73893\n",
      "[800]\ttraining's l1: 7.26074\tvalid_1's l1: 9.73156\n",
      "Early stopping, best iteration is:\n",
      "[724]\ttraining's l1: 7.43438\tvalid_1's l1: 9.72877\n",
      "Training until validation scores don't improve for 100 rounds\n",
      "[200]\ttraining's l1: 9.18579\tvalid_1's l1: 9.99605\n",
      "[400]\ttraining's l1: 8.28564\tvalid_1's l1: 9.82596\n",
      "[600]\ttraining's l1: 7.70901\tvalid_1's l1: 9.79054\n",
      "[800]\ttraining's l1: 7.25208\tvalid_1's l1: 9.78962\n",
      "Early stopping, best iteration is:\n",
      "[708]\ttraining's l1: 7.45028\tvalid_1's l1: 9.78646\n",
      "Training until validation scores don't improve for 100 rounds\n",
      "[200]\ttraining's l1: 9.16097\tvalid_1's l1: 10.1038\n",
      "[400]\ttraining's l1: 8.29069\tvalid_1's l1: 9.9289\n",
      "Early stopping, best iteration is:\n",
      "[495]\ttraining's l1: 8.00827\tvalid_1's l1: 9.90586\n",
      "Training until validation scores don't improve for 100 rounds\n",
      "[200]\ttraining's l1: 9.10687\tvalid_1's l1: 10.2248\n",
      "[400]\ttraining's l1: 8.22201\tvalid_1's l1: 10.1176\n",
      "Early stopping, best iteration is:\n",
      "[444]\ttraining's l1: 8.0762\tvalid_1's l1: 10.1122\n",
      "Training until validation scores don't improve for 100 rounds\n",
      "[200]\ttraining's l1: 9.18018\tvalid_1's l1: 10.0509\n",
      "[400]\ttraining's l1: 8.31582\tvalid_1's l1: 9.85133\n",
      "[600]\ttraining's l1: 7.74348\tvalid_1's l1: 9.79914\n",
      "[800]\ttraining's l1: 7.29536\tvalid_1's l1: 9.79056\n",
      "Early stopping, best iteration is:\n",
      "[765]\ttraining's l1: 7.37093\tvalid_1's l1: 9.78675\n",
      "Training until validation scores don't improve for 100 rounds\n",
      "[200]\ttraining's l1: 9.18089\tvalid_1's l1: 9.95376\n",
      "[400]\ttraining's l1: 8.29117\tvalid_1's l1: 9.76263\n",
      "[600]\ttraining's l1: 7.7426\tvalid_1's l1: 9.731\n",
      "Early stopping, best iteration is:\n",
      "[615]\ttraining's l1: 7.70911\tvalid_1's l1: 9.72835\n",
      "Training until validation scores don't improve for 100 rounds\n",
      "[200]\ttraining's l1: 9.18193\tvalid_1's l1: 9.98309\n",
      "[400]\ttraining's l1: 8.29245\tvalid_1's l1: 9.80977\n",
      "[600]\ttraining's l1: 7.71918\tvalid_1's l1: 9.76513\n",
      "Early stopping, best iteration is:\n",
      "[684]\ttraining's l1: 7.50555\tvalid_1's l1: 9.75854\n",
      "Training until validation scores don't improve for 100 rounds\n",
      "[200]\ttraining's l1: 9.156\tvalid_1's l1: 10.0993\n",
      "[400]\ttraining's l1: 8.2758\tvalid_1's l1: 9.93609\n",
      "[600]\ttraining's l1: 7.72063\tvalid_1's l1: 9.92011\n",
      "Early stopping, best iteration is:\n",
      "[578]\ttraining's l1: 7.78166\tvalid_1's l1: 9.91706\n",
      "Training until validation scores don't improve for 100 rounds\n",
      "[200]\ttraining's l1: 9.10616\tvalid_1's l1: 10.2437\n",
      "[400]\ttraining's l1: 8.20478\tvalid_1's l1: 10.1217\n",
      "[600]\ttraining's l1: 7.65453\tvalid_1's l1: 10.1162\n",
      "Early stopping, best iteration is:\n",
      "[560]\ttraining's l1: 7.74683\tvalid_1's l1: 10.1107\n",
      "Training until validation scores don't improve for 100 rounds\n",
      "[200]\ttraining's l1: 9.16853\tvalid_1's l1: 10.0616\n",
      "[400]\ttraining's l1: 8.30981\tvalid_1's l1: 9.85886\n",
      "[600]\ttraining's l1: 7.74095\tvalid_1's l1: 9.80977\n",
      "[800]\ttraining's l1: 7.27384\tvalid_1's l1: 9.79513\n",
      "[1000]\ttraining's l1: 6.87787\tvalid_1's l1: 9.79278\n",
      "Did not meet early stopping. Best iteration is:\n",
      "[1000]\ttraining's l1: 6.87787\tvalid_1's l1: 9.79278\n",
      "Training until validation scores don't improve for 100 rounds\n",
      "[200]\ttraining's l1: 9.17549\tvalid_1's l1: 9.95674\n",
      "[400]\ttraining's l1: 8.3109\tvalid_1's l1: 9.78179\n",
      "[600]\ttraining's l1: 7.75534\tvalid_1's l1: 9.74437\n",
      "Early stopping, best iteration is:\n",
      "[599]\ttraining's l1: 7.75808\tvalid_1's l1: 9.74404\n",
      "CPU times: user 13min 50s, sys: 10.9 s, total: 14min 1s\n",
      "Wall time: 3min 32s\n"
     ]
    }
   ],
   "source": [
    "%%time\n",
    "n_fold = 5\n",
    "folds = StratifiedKFold(n_splits=n_fold, shuffle=True, random_state=6666)\n",
    "oof = np.zeros(len(train))\n",
    "#train_pred = np.zeros(len(train))\n",
    "predictions = np.zeros(len(test))\n",
    "feature_importance_df = pd.DataFrame()\n",
    "\n",
    "bag_num = 10\n",
    "num_round = 1000\n",
    "#split_groups = train['_weekday']\n",
    "for i in range(bag_num):\n",
    "    param_lgb = {'num_leaves': 256,\n",
    "              'min_child_samples': 79,\n",
    "              'objective': 'regression',\n",
    "              'max_depth': 16,\n",
    "              'learning_rate': 0.01,\n",
    "              \"boosting_type\": \"gbdt\",\n",
    "              \"subsample_freq\": 3,\n",
    "              \"subsample\": 0.9,\n",
    "              \"bagging_seed\": 666*(i+1),\n",
    "              \"metric\": 'mae',\n",
    "              \"verbosity\": -1,\n",
    "              'reg_alpha': 0.3,\n",
    "              'reg_lambda': 0.3,\n",
    "              'colsample_bytree': 0.9,\n",
    "              #'categorical_feature': cat_list\n",
    "             }\n",
    "    param = param_lgb \n",
    "    for fold_, (trn_idx, val_idx) in enumerate(folds.split(train, target['age_range'].values)):\n",
    "        #strLog = f'Fold {fold_ + 1} started at {time.ctime()}'\n",
    "        #print(strLog)\n",
    "\n",
    "        X_tr, X_val = train.iloc[trn_idx][features], train.iloc[val_idx][features]\n",
    "        y_tr, y_val = train_y[trn_idx], train_y[val_idx]\n",
    "\n",
    "\n",
    "        trn_data = lgb.Dataset(X_tr, label=y_tr)\n",
    "        val_data = lgb.Dataset(X_val, label=y_val)\n",
    "\n",
    "        model = lgb.train(param, trn_data, num_round, valid_sets = [trn_data, val_data], verbose_eval=200,\n",
    "                  early_stopping_rounds = 100)\n",
    "        oof[val_idx] +=  model.predict(X_val, num_iteration=model.best_iteration)/bag_num\n",
    "        #predictions\n",
    "        predictions += model.predict(test[features]) / (folds.n_splits*bag_num)\n",
    "        \n",
    "        #oof[val_idx] += (np.exp(model.predict(X_val, num_iteration=model.best_iteration)) -1)/bag_num\n",
    "        #predictions\n",
    "        #predictions += (np.exp(model.predict(test[features]) ) -1)/ (folds.n_splits*bag_num)"
   ]
  },
  {
   "cell_type": "code",
   "execution_count": 908,
   "metadata": {},
   "outputs": [
    {
     "data": {
      "text/plain": [
       "12.200556881427678"
      ]
     },
     "execution_count": 908,
     "metadata": {},
     "output_type": "execute_result"
    }
   ],
   "source": [
    "np.sqrt(mean_squared_error(train_y, oof))\n",
    "# rmse :  13.314234519393993\n",
    "# mae : 13.325016250712645\n",
    "# 5fold cv seed avg x5 ==> cv = 12.61578498267412 @42 sec lb \n",
    "# added time features 12.531388783839988\n",
    "# change stratify split 10 12.525934095593309\n",
    "# change stratify split 20 12.521599771941814\n",
    "# add holiday 12.467225661835602\n",
    "# add service kategory and device :12.21338138639038\n",
    "# seed avg 10 times :12.209682760376223  12.203302975702949(rmse)\n",
    "# 12.200556881427678"
   ]
  },
  {
   "cell_type": "code",
   "execution_count": 915,
   "metadata": {
    "scrolled": true
   },
   "outputs": [
    {
     "name": "stdout",
     "output_type": "stream",
     "text": [
      "Training until validation scores don't improve for 100 rounds\n",
      "[200]\ttraining's rmse: 11.3392\tvalid_1's rmse: 12.3176\n",
      "[400]\ttraining's rmse: 10.4159\tvalid_1's rmse: 12.186\n",
      "[600]\ttraining's rmse: 9.74997\tvalid_1's rmse: 12.1868\n",
      "Early stopping, best iteration is:\n",
      "[523]\ttraining's rmse: 9.98699\tvalid_1's rmse: 12.1787\n",
      "Training until validation scores don't improve for 100 rounds\n",
      "[200]\ttraining's rmse: 11.3196\tvalid_1's rmse: 12.3518\n",
      "[400]\ttraining's rmse: 10.3974\tvalid_1's rmse: 12.2526\n",
      "[600]\ttraining's rmse: 9.73369\tvalid_1's rmse: 12.2484\n",
      "Early stopping, best iteration is:\n",
      "[513]\ttraining's rmse: 10.0009\tvalid_1's rmse: 12.2456\n",
      "Training until validation scores don't improve for 100 rounds\n",
      "[200]\ttraining's rmse: 11.28\tvalid_1's rmse: 12.4538\n",
      "[400]\ttraining's rmse: 10.3591\tvalid_1's rmse: 12.3947\n",
      "Early stopping, best iteration is:\n",
      "[343]\ttraining's rmse: 10.583\tvalid_1's rmse: 12.3909\n",
      "Training until validation scores don't improve for 100 rounds\n",
      "[200]\ttraining's rmse: 11.3492\tvalid_1's rmse: 12.3282\n",
      "[400]\ttraining's rmse: 10.4359\tvalid_1's rmse: 12.1743\n",
      "[600]\ttraining's rmse: 9.78977\tvalid_1's rmse: 12.1584\n",
      "Early stopping, best iteration is:\n",
      "[605]\ttraining's rmse: 9.77785\tvalid_1's rmse: 12.1563\n",
      "Training until validation scores don't improve for 100 rounds\n",
      "[200]\ttraining's rmse: 11.3666\tvalid_1's rmse: 12.1645\n",
      "[400]\ttraining's rmse: 10.4368\tvalid_1's rmse: 12.0405\n",
      "[600]\ttraining's rmse: 9.76305\tvalid_1's rmse: 12.0351\n",
      "Early stopping, best iteration is:\n",
      "[569]\ttraining's rmse: 9.85923\tvalid_1's rmse: 12.0299\n",
      "Training until validation scores don't improve for 100 rounds\n",
      "[200]\ttraining's rmse: 11.3395\tvalid_1's rmse: 12.3122\n",
      "[400]\ttraining's rmse: 10.4102\tvalid_1's rmse: 12.1797\n",
      "Early stopping, best iteration is:\n",
      "[432]\ttraining's rmse: 10.2986\tvalid_1's rmse: 12.1744\n",
      "Training until validation scores don't improve for 100 rounds\n",
      "[200]\ttraining's rmse: 11.3197\tvalid_1's rmse: 12.3665\n",
      "[400]\ttraining's rmse: 10.3948\tvalid_1's rmse: 12.2605\n",
      "Early stopping, best iteration is:\n",
      "[442]\ttraining's rmse: 10.2568\tvalid_1's rmse: 12.2553\n",
      "Training until validation scores don't improve for 100 rounds\n",
      "[200]\ttraining's rmse: 11.2865\tvalid_1's rmse: 12.4632\n",
      "[400]\ttraining's rmse: 10.3589\tvalid_1's rmse: 12.3806\n",
      "Early stopping, best iteration is:\n",
      "[437]\ttraining's rmse: 10.2257\tvalid_1's rmse: 12.3788\n",
      "Training until validation scores don't improve for 100 rounds\n",
      "[200]\ttraining's rmse: 11.3439\tvalid_1's rmse: 12.2996\n",
      "[400]\ttraining's rmse: 10.4349\tvalid_1's rmse: 12.1519\n",
      "[600]\ttraining's rmse: 9.79327\tvalid_1's rmse: 12.1294\n",
      "Early stopping, best iteration is:\n",
      "[520]\ttraining's rmse: 10.0459\tvalid_1's rmse: 12.1215\n",
      "Training until validation scores don't improve for 100 rounds\n",
      "[200]\ttraining's rmse: 11.3628\tvalid_1's rmse: 12.1774\n",
      "[400]\ttraining's rmse: 10.4487\tvalid_1's rmse: 12.0484\n",
      "[600]\ttraining's rmse: 9.79978\tvalid_1's rmse: 12.0379\n",
      "Early stopping, best iteration is:\n",
      "[516]\ttraining's rmse: 10.0519\tvalid_1's rmse: 12.0356\n",
      "Training until validation scores don't improve for 100 rounds\n",
      "[200]\ttraining's rmse: 11.3342\tvalid_1's rmse: 12.3134\n",
      "[400]\ttraining's rmse: 10.3999\tvalid_1's rmse: 12.1865\n",
      "Early stopping, best iteration is:\n",
      "[473]\ttraining's rmse: 10.149\tvalid_1's rmse: 12.18\n",
      "Training until validation scores don't improve for 100 rounds\n",
      "[200]\ttraining's rmse: 11.3213\tvalid_1's rmse: 12.3614\n",
      "[400]\ttraining's rmse: 10.3906\tvalid_1's rmse: 12.2718\n",
      "[600]\ttraining's rmse: 9.74034\tvalid_1's rmse: 12.2745\n",
      "Early stopping, best iteration is:\n",
      "[504]\ttraining's rmse: 10.0379\tvalid_1's rmse: 12.2685\n",
      "Training until validation scores don't improve for 100 rounds\n",
      "[200]\ttraining's rmse: 11.283\tvalid_1's rmse: 12.4589\n",
      "[400]\ttraining's rmse: 10.3529\tvalid_1's rmse: 12.4067\n",
      "Early stopping, best iteration is:\n",
      "[396]\ttraining's rmse: 10.3667\tvalid_1's rmse: 12.4061\n",
      "Training until validation scores don't improve for 100 rounds\n",
      "[200]\ttraining's rmse: 11.3461\tvalid_1's rmse: 12.3197\n",
      "[400]\ttraining's rmse: 10.4234\tvalid_1's rmse: 12.1786\n",
      "[600]\ttraining's rmse: 9.79291\tvalid_1's rmse: 12.149\n",
      "Early stopping, best iteration is:\n",
      "[586]\ttraining's rmse: 9.83365\tvalid_1's rmse: 12.1467\n",
      "Training until validation scores don't improve for 100 rounds\n",
      "[200]\ttraining's rmse: 11.3676\tvalid_1's rmse: 12.1876\n",
      "[400]\ttraining's rmse: 10.4562\tvalid_1's rmse: 12.0504\n",
      "Early stopping, best iteration is:\n",
      "[461]\ttraining's rmse: 10.233\tvalid_1's rmse: 12.0386\n",
      "Training until validation scores don't improve for 100 rounds\n",
      "[200]\ttraining's rmse: 11.3341\tvalid_1's rmse: 12.3139\n",
      "[400]\ttraining's rmse: 10.4072\tvalid_1's rmse: 12.1732\n",
      "Early stopping, best iteration is:\n",
      "[486]\ttraining's rmse: 10.1002\tvalid_1's rmse: 12.1575\n",
      "Training until validation scores don't improve for 100 rounds\n",
      "[200]\ttraining's rmse: 11.3265\tvalid_1's rmse: 12.3886\n",
      "[400]\ttraining's rmse: 10.4013\tvalid_1's rmse: 12.2909\n",
      "Early stopping, best iteration is:\n",
      "[384]\ttraining's rmse: 10.4638\tvalid_1's rmse: 12.2893\n",
      "Training until validation scores don't improve for 100 rounds\n",
      "[200]\ttraining's rmse: 11.2817\tvalid_1's rmse: 12.4557\n",
      "[400]\ttraining's rmse: 10.3533\tvalid_1's rmse: 12.3816\n",
      "Early stopping, best iteration is:\n",
      "[477]\ttraining's rmse: 10.0848\tvalid_1's rmse: 12.3712\n",
      "Training until validation scores don't improve for 100 rounds\n",
      "[200]\ttraining's rmse: 11.3361\tvalid_1's rmse: 12.3114\n",
      "[400]\ttraining's rmse: 10.4347\tvalid_1's rmse: 12.1774\n",
      "[600]\ttraining's rmse: 9.78781\tvalid_1's rmse: 12.1562\n",
      "Early stopping, best iteration is:\n",
      "[653]\ttraining's rmse: 9.6202\tvalid_1's rmse: 12.1504\n",
      "Training until validation scores don't improve for 100 rounds\n",
      "[200]\ttraining's rmse: 11.3615\tvalid_1's rmse: 12.1855\n",
      "[400]\ttraining's rmse: 10.4488\tvalid_1's rmse: 12.0451\n",
      "[600]\ttraining's rmse: 9.78419\tvalid_1's rmse: 12.0355\n",
      "Early stopping, best iteration is:\n",
      "[516]\ttraining's rmse: 10.0425\tvalid_1's rmse: 12.0299\n",
      "Training until validation scores don't improve for 100 rounds\n",
      "[200]\ttraining's rmse: 11.3381\tvalid_1's rmse: 12.3224\n",
      "[400]\ttraining's rmse: 10.4061\tvalid_1's rmse: 12.1907\n",
      "[600]\ttraining's rmse: 9.75548\tvalid_1's rmse: 12.1803\n",
      "Early stopping, best iteration is:\n",
      "[587]\ttraining's rmse: 9.79583\tvalid_1's rmse: 12.179\n",
      "Training until validation scores don't improve for 100 rounds\n",
      "[200]\ttraining's rmse: 11.3155\tvalid_1's rmse: 12.3757\n",
      "[400]\ttraining's rmse: 10.3923\tvalid_1's rmse: 12.2811\n",
      "[600]\ttraining's rmse: 9.74949\tvalid_1's rmse: 12.2744\n",
      "Early stopping, best iteration is:\n",
      "[527]\ttraining's rmse: 9.96074\tvalid_1's rmse: 12.2726\n",
      "Training until validation scores don't improve for 100 rounds\n",
      "[200]\ttraining's rmse: 11.2824\tvalid_1's rmse: 12.4412\n",
      "[400]\ttraining's rmse: 10.3461\tvalid_1's rmse: 12.3689\n",
      "Early stopping, best iteration is:\n",
      "[395]\ttraining's rmse: 10.3654\tvalid_1's rmse: 12.3677\n",
      "Training until validation scores don't improve for 100 rounds\n",
      "[200]\ttraining's rmse: 11.3491\tvalid_1's rmse: 12.3262\n",
      "[400]\ttraining's rmse: 10.4336\tvalid_1's rmse: 12.1687\n",
      "[600]\ttraining's rmse: 9.77965\tvalid_1's rmse: 12.15\n",
      "Early stopping, best iteration is:\n",
      "[635]\ttraining's rmse: 9.67064\tvalid_1's rmse: 12.1486\n",
      "Training until validation scores don't improve for 100 rounds\n",
      "[200]\ttraining's rmse: 11.3665\tvalid_1's rmse: 12.1776\n",
      "[400]\ttraining's rmse: 10.4483\tvalid_1's rmse: 12.0788\n",
      "[600]\ttraining's rmse: 9.78935\tvalid_1's rmse: 12.0698\n",
      "Early stopping, best iteration is:\n",
      "[535]\ttraining's rmse: 9.98812\tvalid_1's rmse: 12.0682\n",
      "CPU times: user 5min 35s, sys: 4.62 s, total: 5min 39s\n",
      "Wall time: 1min 25s\n"
     ]
    }
   ],
   "source": [
    "%%time\n",
    "n_fold = 5\n",
    "folds = StratifiedKFold(n_splits=n_fold, shuffle=True, random_state=6666)\n",
    "oof3 = np.zeros(len(train))\n",
    "#train_pred = np.zeros(len(train))\n",
    "predictions3 = np.zeros(len(test))\n",
    "feature_importance_df = pd.DataFrame()\n",
    "\n",
    "bag_num = 5\n",
    "num_round = 1000\n",
    "#split_groups = train['_weekday']\n",
    "for i in range(bag_num):\n",
    "    param_lgb = {'num_leaves': 256,\n",
    "              'min_child_samples': 79,\n",
    "              'objective': 'regression',\n",
    "              'max_depth': 16,\n",
    "              'learning_rate': 0.01,\n",
    "              \"boosting_type\": \"gbdt\",\n",
    "              \"subsample_freq\": 3,\n",
    "              \"subsample\": 0.8,\n",
    "              \"bagging_seed\": 666*(i+1),\n",
    "              \"metric\": 'rmse',\n",
    "              \"verbosity\": -1,\n",
    "              'reg_alpha': 0.3,\n",
    "              'reg_lambda': 0.3,\n",
    "              'colsample_bytree': 0.9,\n",
    "              #'categorical_feature': cat_list\n",
    "             }\n",
    "    param = param_lgb \n",
    "    for fold_, (trn_idx, val_idx) in enumerate(folds.split(train, target['age_range'].values)):\n",
    "        #strLog = f'Fold {fold_ + 1} started at {time.ctime()}'\n",
    "        #print(strLog)\n",
    "\n",
    "        X_tr, X_val = train.iloc[trn_idx][features], train.iloc[val_idx][features]\n",
    "        y_tr, y_val = train_y[trn_idx], train_y[val_idx]\n",
    "\n",
    "\n",
    "        trn_data = lgb.Dataset(X_tr, label=y_tr)\n",
    "        val_data = lgb.Dataset(X_val, label=y_val)\n",
    "\n",
    "        model = lgb.train(param, trn_data, num_round, valid_sets = [trn_data, val_data], verbose_eval=200,\n",
    "                  early_stopping_rounds = 100)\n",
    "        oof3[val_idx] +=  model.predict(X_val, num_iteration=model.best_iteration)/bag_num\n",
    "        #predictions\n",
    "        predictions3 += model.predict(test[features]) / (folds.n_splits*bag_num)\n",
    "        \n",
    "        #oof[val_idx] += (np.exp(model.predict(X_val, num_iteration=model.best_iteration)) -1)/bag_num\n",
    "        #predictions\n",
    "        #predictions += (np.exp(model.predict(test[features]) ) -1)/ (folds.n_splits*bag_num)"
   ]
  },
  {
   "cell_type": "code",
   "execution_count": 916,
   "metadata": {},
   "outputs": [
    {
     "data": {
      "text/plain": [
       "12.189226821650978"
      ]
     },
     "execution_count": 916,
     "metadata": {},
     "output_type": "execute_result"
    }
   ],
   "source": [
    "np.sqrt(mean_squared_error(train_y, oof3))"
   ]
  },
  {
   "cell_type": "markdown",
   "metadata": {},
   "source": [
    "## XGB Model"
   ]
  },
  {
   "cell_type": "code",
   "execution_count": 920,
   "metadata": {
    "scrolled": true
   },
   "outputs": [
    {
     "name": "stdout",
     "output_type": "stream",
     "text": [
      "bagnum:0\n",
      "[0]\ttrain-rmse:46.7725\ttest-rmse:46.8177\n",
      "Multiple eval metrics have been passed: 'test-rmse' will be used for early stopping.\n",
      "\n",
      "Will train until test-rmse hasn't improved in 100 rounds.\n",
      "[200]\ttrain-rmse:9.52006\ttest-rmse:14.43\n",
      "[400]\ttrain-rmse:3.48907\ttest-rmse:12.5529\n",
      "[600]\ttrain-rmse:1.9309\ttest-rmse:12.4633\n",
      "[800]\ttrain-rmse:1.18083\ttest-rmse:12.4563\n",
      "Stopping. Best iteration:\n",
      "[808]\ttrain-rmse:1.15901\ttest-rmse:12.456\n",
      "\n",
      "[0]\ttrain-rmse:46.7808\ttest-rmse:46.7919\n",
      "Multiple eval metrics have been passed: 'test-rmse' will be used for early stopping.\n",
      "\n",
      "Will train until test-rmse hasn't improved in 100 rounds.\n",
      "[200]\ttrain-rmse:9.52189\ttest-rmse:14.4751\n",
      "[400]\ttrain-rmse:3.50755\ttest-rmse:12.5733\n",
      "[600]\ttrain-rmse:2.02101\ttest-rmse:12.4768\n",
      "[800]\ttrain-rmse:1.24782\ttest-rmse:12.4688\n",
      "Stopping. Best iteration:\n",
      "[786]\ttrain-rmse:1.30077\ttest-rmse:12.4681\n",
      "\n",
      "[0]\ttrain-rmse:46.7759\ttest-rmse:46.808\n",
      "Multiple eval metrics have been passed: 'test-rmse' will be used for early stopping.\n",
      "\n",
      "Will train until test-rmse hasn't improved in 100 rounds.\n",
      "[200]\ttrain-rmse:9.5264\ttest-rmse:14.4549\n",
      "[400]\ttrain-rmse:3.54452\ttest-rmse:12.6268\n",
      "[600]\ttrain-rmse:2.06764\ttest-rmse:12.5497\n",
      "Stopping. Best iteration:\n",
      "[688]\ttrain-rmse:1.6626\ttest-rmse:12.5477\n",
      "\n",
      "[0]\ttrain-rmse:46.7799\ttest-rmse:46.7933\n",
      "Multiple eval metrics have been passed: 'test-rmse' will be used for early stopping.\n",
      "\n",
      "Will train until test-rmse hasn't improved in 100 rounds.\n",
      "[200]\ttrain-rmse:9.55823\ttest-rmse:14.4244\n",
      "[400]\ttrain-rmse:3.53821\ttest-rmse:12.5242\n",
      "[600]\ttrain-rmse:1.98517\ttest-rmse:12.4213\n",
      "[800]\ttrain-rmse:1.2402\ttest-rmse:12.4156\n",
      "Stopping. Best iteration:\n",
      "[849]\ttrain-rmse:1.09454\ttest-rmse:12.4143\n",
      "\n",
      "[0]\ttrain-rmse:46.8005\ttest-rmse:46.7073\n",
      "Multiple eval metrics have been passed: 'test-rmse' will be used for early stopping.\n",
      "\n",
      "Will train until test-rmse hasn't improved in 100 rounds.\n",
      "[200]\ttrain-rmse:9.56363\ttest-rmse:14.1933\n",
      "[400]\ttrain-rmse:3.58271\ttest-rmse:12.3759\n",
      "[600]\ttrain-rmse:2.10695\ttest-rmse:12.2976\n",
      "Stopping. Best iteration:\n",
      "[658]\ttrain-rmse:1.85546\ttest-rmse:12.2932\n",
      "\n",
      "CPU times: user 10min 41s, sys: 4.64 s, total: 10min 45s\n",
      "Wall time: 2min 42s\n"
     ]
    }
   ],
   "source": [
    "%%time\n",
    "n_fold = 5\n",
    "folds = StratifiedKFold(n_splits=n_fold, shuffle=True, random_state=6666)\n",
    "oof4 = np.zeros(len(train))\n",
    "#train_pred = np.zeros(len(train))\n",
    "predictions4 = np.zeros(len(test))\n",
    "feature_importance_df = pd.DataFrame()\n",
    "\n",
    "bag_num = 1\n",
    "num_round = 1000\n",
    "#split_groups = train['_weekday']\n",
    "for i in range(bag_num):\n",
    "    print('bagnum:'+str(i))\n",
    "    param_xgb = {'max_depth': 16\n",
    "         , 'eta': 0.01\n",
    "         , 'silent': 1\n",
    "         , 'objective': 'reg:linear'\n",
    "         , 'subsample': 0.8\n",
    "         , 'colsample_bytree' : 0.8\n",
    "         , 'eval_metric':'rmse'\n",
    "         , 'nthread' : 4}\n",
    "    param = param_xgb \n",
    "    for fold_, (trn_idx, val_idx) in enumerate(folds.split(train, target['age_range'].values)):\n",
    "        #strLog = f'Fold {fold_ + 1} started at {time.ctime()}'\n",
    "        #print(strLog)\n",
    "\n",
    "        X_tr, X_val = train.iloc[trn_idx][features], train.iloc[val_idx][features]\n",
    "        y_tr, y_val = train_y[trn_idx], train_y[val_idx]\n",
    "        \n",
    "        trn_data = xgb.DMatrix(X_tr, label=y_tr)\n",
    "        val_data = xgb.DMatrix(X_val, label=y_val)\n",
    "        evalist = [(trn_data, 'train'), (val_data, 'test')]\n",
    "\n",
    "        model = xgb.train(param, trn_data, num_round, evalist, verbose_eval=200, early_stopping_rounds = 100)\n",
    "        oof4[val_idx] +=  model.predict(xgb.DMatrix(X_val), ntree_limit=model.best_ntree_limit)/bag_num\n",
    "        #predictions\n",
    "        predictions4 += model.predict(xgb.DMatrix(test[features]), ntree_limit=model.best_ntree_limit) / (folds.n_splits*bag_num)\n",
    "        \n",
    "        #oof[val_idx] += (np.exp(model.predict(X_val, num_iteration=model.best_iteration)) -1)/bag_num\n",
    "        #predictions\n",
    "        #predictions += (np.exp(model.predict(test[features]) ) -1)/ (folds.n_splits*bag_num)"
   ]
  },
  {
   "cell_type": "code",
   "execution_count": 921,
   "metadata": {},
   "outputs": [
    {
     "data": {
      "text/plain": [
       "12.436236230435153"
      ]
     },
     "execution_count": 921,
     "metadata": {},
     "output_type": "execute_result"
    }
   ],
   "source": [
    "np.sqrt(mean_squared_error(train_y, oof4))\n"
   ]
  },
  {
   "cell_type": "markdown",
   "metadata": {},
   "source": [
    "## RGF model"
   ]
  },
  {
   "cell_type": "code",
   "execution_count": 909,
   "metadata": {},
   "outputs": [],
   "source": [
    "train2 = train.fillna(train.median()).copy()\n",
    "test2 = test.fillna(train.median()).copy()"
   ]
  },
  {
   "cell_type": "code",
   "execution_count": 910,
   "metadata": {},
   "outputs": [],
   "source": [
    "train2['holiday_readrate']=train2['holiday_readrate'].fillna(0)\n",
    "test2['holiday_readrate']=test2['holiday_readrate'].fillna(0)"
   ]
  },
  {
   "cell_type": "code",
   "execution_count": 912,
   "metadata": {},
   "outputs": [
    {
     "name": "stdout",
     "output_type": "stream",
     "text": [
      "\"train\": \n",
      "   algorithm=RGF\n",
      "   train_x_fn=/tmp/rgf/3d1ffcea-efb5-4a21-9db5-277115cf9f7822.train.data.x\n",
      "   train_y_fn=/tmp/rgf/3d1ffcea-efb5-4a21-9db5-277115cf9f7822.train.data.y\n",
      "   Log:ON\n",
      "   model_fn_prefix=/tmp/rgf/3d1ffcea-efb5-4a21-9db5-277115cf9f7822.model\n",
      "--------------------\n",
      "Thu Dec 12 18:24:59 2019: Reading training data ... \n",
      "Thu Dec 12 18:24:59 2019: Start ... #train=11260\n",
      "--------------------\n",
      "Forest-level: \n",
      "   loss=LS\n",
      "   max_leaf_forest=500\n",
      "   max_tree=250\n",
      "   opt_interval=100\n",
      "   test_interval=100\n",
      "   num_tree_search=1\n",
      "   Verbose:ON\n",
      "   memory_policy=Generous\n",
      "-------------\n",
      "Training data: 60x11260, nonzero_ratio=0.969; managed as dense data.\n",
      "-------------\n",
      "Optimization: \n",
      "   loss=LS\n",
      "   num_iteration_opt=10\n",
      "   reg_L2=0.1\n",
      "   opt_stepsize=0.5\n",
      "   NormalizeTarget:ON\n",
      "Tree-level: min_pop=10\n",
      "Node split: reg_L2=0.1\n",
      "--------------------\n",
      "Thu Dec 12 18:25:00 2019: Calling optimizer with 33 trees and 101 leaves\n",
      "Thu Dec 12 18:25:00 2019: Writing model: seq#=1\n",
      "Thu Dec 12 18:25:01 2019: Calling optimizer with 49 trees and 200 leaves\n",
      "Thu Dec 12 18:25:01 2019: Writing model: seq#=2\n",
      "Thu Dec 12 18:25:02 2019: Calling optimizer with 61 trees and 300 leaves\n",
      "Thu Dec 12 18:25:02 2019: Writing model: seq#=3\n",
      "Thu Dec 12 18:25:02 2019: Calling optimizer with 71 trees and 400 leaves\n",
      "Thu Dec 12 18:25:02 2019: Writing model: seq#=4\n",
      "Thu Dec 12 18:25:03 2019: AzRgforest: #leaf reached max\n",
      "Thu Dec 12 18:25:03 2019: Calling optimizer with 76 trees and 500 leaves\n",
      "Thu Dec 12 18:25:03 2019: Writing model: seq#=5\n",
      "\n",
      "Generated 5 model file(s): \n",
      "/tmp/rgf/3d1ffcea-efb5-4a21-9db5-277115cf9f7822.model-01\n",
      "/tmp/rgf/3d1ffcea-efb5-4a21-9db5-277115cf9f7822.model-02\n",
      "/tmp/rgf/3d1ffcea-efb5-4a21-9db5-277115cf9f7822.model-03\n",
      "/tmp/rgf/3d1ffcea-efb5-4a21-9db5-277115cf9f7822.model-04\n",
      "/tmp/rgf/3d1ffcea-efb5-4a21-9db5-277115cf9f7822.model-05\n",
      "\n",
      "Thu Dec 12 18:25:03 2019: Done ... \n",
      "elapsed: 3.8358\n",
      "\n",
      "\"predict\": \n",
      "   model_fn=/tmp/rgf/3d1ffcea-efb5-4a21-9db5-277115cf9f7822.model-05\n",
      "   test_x_fn=/tmp/rgf/3d1ffcea-efb5-4a21-9db5-277115cf9f7822.test.data.x\n",
      "   prediction_fn=/tmp/rgf/3d1ffcea-efb5-4a21-9db5-277115cf9f7822.predictions.txt\n",
      "   Log:ON\n",
      "--------------------\n",
      "Thu Dec 12 18:25:03 2019: Reading test data ... \n",
      "Thu Dec 12 18:25:03 2019: Predicting ... \n",
      "elapsed: 0.01495\n",
      "/tmp/rgf/3d1ffcea-efb5-4a21-9db5-277115cf9f7822.predictions.txt: /tmp/rgf/3d1ffcea-efb5-4a21-9db5-277115cf9f7822.model-05,#leaf=500,#tree=76\n",
      "Thu Dec 12 18:25:03 2019: Done ... \n",
      "\n",
      "\"predict\": \n",
      "   model_fn=/tmp/rgf/3d1ffcea-efb5-4a21-9db5-277115cf9f7822.model-05\n",
      "   test_x_fn=/tmp/rgf/3d1ffcea-efb5-4a21-9db5-277115cf9f7822.test.data.x\n",
      "   prediction_fn=/tmp/rgf/3d1ffcea-efb5-4a21-9db5-277115cf9f7822.predictions.txt\n",
      "   Log:ON\n",
      "--------------------\n",
      "Thu Dec 12 18:25:04 2019: Reading test data ... \n",
      "Thu Dec 12 18:25:04 2019: Predicting ... \n",
      "elapsed: 0.035923\n",
      "/tmp/rgf/3d1ffcea-efb5-4a21-9db5-277115cf9f7822.predictions.txt: /tmp/rgf/3d1ffcea-efb5-4a21-9db5-277115cf9f7822.model-05,#leaf=500,#tree=76\n",
      "Thu Dec 12 18:25:04 2019: Done ... \n",
      "\n",
      "\"train\": \n",
      "   algorithm=RGF\n",
      "   train_x_fn=/tmp/rgf/d314c46a-74f8-479e-a8dd-441cc861f3d823.train.data.x\n",
      "   train_y_fn=/tmp/rgf/d314c46a-74f8-479e-a8dd-441cc861f3d823.train.data.y\n",
      "   Log:ON\n",
      "   model_fn_prefix=/tmp/rgf/d314c46a-74f8-479e-a8dd-441cc861f3d823.model\n",
      "--------------------\n",
      "Thu Dec 12 18:25:05 2019: Reading training data ... \n",
      "Thu Dec 12 18:25:05 2019: Start ... #train=11268\n",
      "--------------------\n",
      "Forest-level: \n",
      "   loss=LS\n",
      "   max_leaf_forest=500\n",
      "   max_tree=250\n",
      "   opt_interval=100\n",
      "   test_interval=100\n",
      "   num_tree_search=1\n",
      "   Verbose:ON\n",
      "   memory_policy=Generous\n",
      "-------------\n",
      "Training data: 60x11268, nonzero_ratio=0.9691; managed as dense data.\n",
      "-------------\n",
      "Optimization: \n",
      "   loss=LS\n",
      "   num_iteration_opt=10\n",
      "   reg_L2=0.1\n",
      "   opt_stepsize=0.5\n",
      "   NormalizeTarget:ON\n",
      "Tree-level: min_pop=10\n",
      "Node split: reg_L2=0.1\n",
      "--------------------\n",
      "Thu Dec 12 18:25:06 2019: Calling optimizer with 31 trees and 100 leaves\n",
      "Thu Dec 12 18:25:06 2019: Writing model: seq#=1\n",
      "Thu Dec 12 18:25:06 2019: Calling optimizer with 47 trees and 200 leaves\n",
      "Thu Dec 12 18:25:06 2019: Writing model: seq#=2\n",
      "Thu Dec 12 18:25:07 2019: Calling optimizer with 57 trees and 300 leaves\n",
      "Thu Dec 12 18:25:07 2019: Writing model: seq#=3\n",
      "Thu Dec 12 18:25:08 2019: Calling optimizer with 66 trees and 400 leaves\n",
      "Thu Dec 12 18:25:08 2019: Writing model: seq#=4\n",
      "Thu Dec 12 18:25:08 2019: AzRgforest: #leaf reached max\n",
      "Thu Dec 12 18:25:08 2019: Calling optimizer with 75 trees and 500 leaves\n",
      "Thu Dec 12 18:25:08 2019: Writing model: seq#=5\n",
      "\n",
      "Generated 5 model file(s): \n",
      "/tmp/rgf/d314c46a-74f8-479e-a8dd-441cc861f3d823.model-01\n",
      "/tmp/rgf/d314c46a-74f8-479e-a8dd-441cc861f3d823.model-02\n",
      "/tmp/rgf/d314c46a-74f8-479e-a8dd-441cc861f3d823.model-03\n",
      "/tmp/rgf/d314c46a-74f8-479e-a8dd-441cc861f3d823.model-04\n",
      "/tmp/rgf/d314c46a-74f8-479e-a8dd-441cc861f3d823.model-05\n",
      "\n",
      "Thu Dec 12 18:25:08 2019: Done ... \n",
      "elapsed: 3.6172\n",
      "\n",
      "\"predict\": \n",
      "   model_fn=/tmp/rgf/d314c46a-74f8-479e-a8dd-441cc861f3d823.model-05\n",
      "   test_x_fn=/tmp/rgf/d314c46a-74f8-479e-a8dd-441cc861f3d823.test.data.x\n",
      "   prediction_fn=/tmp/rgf/d314c46a-74f8-479e-a8dd-441cc861f3d823.predictions.txt\n",
      "   Log:ON\n",
      "--------------------\n",
      "Thu Dec 12 18:25:09 2019: Reading test data ... \n",
      "Thu Dec 12 18:25:09 2019: Predicting ... \n",
      "elapsed: 0.009943\n",
      "/tmp/rgf/d314c46a-74f8-479e-a8dd-441cc861f3d823.predictions.txt: /tmp/rgf/d314c46a-74f8-479e-a8dd-441cc861f3d823.model-05,#leaf=500,#tree=75\n",
      "Thu Dec 12 18:25:09 2019: Done ... \n",
      "\n",
      "\"predict\": \n",
      "   model_fn=/tmp/rgf/d314c46a-74f8-479e-a8dd-441cc861f3d823.model-05\n",
      "   test_x_fn=/tmp/rgf/d314c46a-74f8-479e-a8dd-441cc861f3d823.test.data.x\n",
      "   prediction_fn=/tmp/rgf/d314c46a-74f8-479e-a8dd-441cc861f3d823.predictions.txt\n",
      "   Log:ON\n",
      "--------------------\n",
      "Thu Dec 12 18:25:09 2019: Reading test data ... \n",
      "Thu Dec 12 18:25:09 2019: Predicting ... \n",
      "elapsed: 0.039454\n",
      "/tmp/rgf/d314c46a-74f8-479e-a8dd-441cc861f3d823.predictions.txt: /tmp/rgf/d314c46a-74f8-479e-a8dd-441cc861f3d823.model-05,#leaf=500,#tree=75\n",
      "Thu Dec 12 18:25:09 2019: Done ... \n",
      "\n",
      "\"train\": \n",
      "   algorithm=RGF\n",
      "   train_x_fn=/tmp/rgf/69a77f7a-f95f-47a5-8993-3d1d3e89a1ba24.train.data.x\n",
      "   train_y_fn=/tmp/rgf/69a77f7a-f95f-47a5-8993-3d1d3e89a1ba24.train.data.y\n",
      "   Log:ON\n",
      "   model_fn_prefix=/tmp/rgf/69a77f7a-f95f-47a5-8993-3d1d3e89a1ba24.model\n",
      "--------------------\n",
      "Thu Dec 12 18:25:10 2019: Reading training data ... \n",
      "Thu Dec 12 18:25:10 2019: Start ... #train=11272\n",
      "--------------------\n",
      "Forest-level: \n",
      "   loss=LS\n",
      "   max_leaf_forest=500\n",
      "   max_tree=250\n",
      "   opt_interval=100\n",
      "   test_interval=100\n",
      "   num_tree_search=1\n",
      "   Verbose:ON\n",
      "   memory_policy=Generous\n",
      "-------------\n",
      "Training data: 60x11272, nonzero_ratio=0.9691; managed as dense data.\n",
      "-------------\n",
      "Optimization: \n",
      "   loss=LS\n",
      "   num_iteration_opt=10\n",
      "   reg_L2=0.1\n",
      "   opt_stepsize=0.5\n",
      "   NormalizeTarget:ON\n",
      "Tree-level: min_pop=10\n",
      "Node split: reg_L2=0.1\n",
      "--------------------\n",
      "Thu Dec 12 18:25:11 2019: Calling optimizer with 30 trees and 100 leaves\n",
      "Thu Dec 12 18:25:11 2019: Writing model: seq#=1\n",
      "Thu Dec 12 18:25:12 2019: Calling optimizer with 45 trees and 200 leaves\n",
      "Thu Dec 12 18:25:12 2019: Writing model: seq#=2\n",
      "Thu Dec 12 18:25:13 2019: Calling optimizer with 54 trees and 300 leaves\n",
      "Thu Dec 12 18:25:13 2019: Writing model: seq#=3\n",
      "Thu Dec 12 18:25:13 2019: Calling optimizer with 62 trees and 400 leaves\n",
      "Thu Dec 12 18:25:13 2019: Writing model: seq#=4\n",
      "Thu Dec 12 18:25:14 2019: AzRgforest: #leaf reached max\n",
      "Thu Dec 12 18:25:14 2019: Calling optimizer with 70 trees and 500 leaves\n",
      "Thu Dec 12 18:25:14 2019: Writing model: seq#=5\n",
      "\n",
      "Generated 5 model file(s): \n",
      "/tmp/rgf/69a77f7a-f95f-47a5-8993-3d1d3e89a1ba24.model-01\n",
      "/tmp/rgf/69a77f7a-f95f-47a5-8993-3d1d3e89a1ba24.model-02\n",
      "/tmp/rgf/69a77f7a-f95f-47a5-8993-3d1d3e89a1ba24.model-03\n",
      "/tmp/rgf/69a77f7a-f95f-47a5-8993-3d1d3e89a1ba24.model-04\n",
      "/tmp/rgf/69a77f7a-f95f-47a5-8993-3d1d3e89a1ba24.model-05\n",
      "\n",
      "Thu Dec 12 18:25:14 2019: Done ... \n",
      "elapsed: 3.5547\n",
      "\n",
      "\"predict\": \n",
      "   model_fn=/tmp/rgf/69a77f7a-f95f-47a5-8993-3d1d3e89a1ba24.model-05\n",
      "   test_x_fn=/tmp/rgf/69a77f7a-f95f-47a5-8993-3d1d3e89a1ba24.test.data.x\n",
      "   prediction_fn=/tmp/rgf/69a77f7a-f95f-47a5-8993-3d1d3e89a1ba24.predictions.txt\n",
      "   Log:ON\n",
      "--------------------\n",
      "Thu Dec 12 18:25:14 2019: Reading test data ... \n",
      "Thu Dec 12 18:25:14 2019: Predicting ... \n",
      "elapsed: 0.01352\n",
      "/tmp/rgf/69a77f7a-f95f-47a5-8993-3d1d3e89a1ba24.predictions.txt: /tmp/rgf/69a77f7a-f95f-47a5-8993-3d1d3e89a1ba24.model-05,#leaf=500,#tree=70\n",
      "Thu Dec 12 18:25:14 2019: Done ... \n",
      "\n"
     ]
    },
    {
     "name": "stdout",
     "output_type": "stream",
     "text": [
      "\"predict\": \n",
      "   model_fn=/tmp/rgf/69a77f7a-f95f-47a5-8993-3d1d3e89a1ba24.model-05\n",
      "   test_x_fn=/tmp/rgf/69a77f7a-f95f-47a5-8993-3d1d3e89a1ba24.test.data.x\n",
      "   prediction_fn=/tmp/rgf/69a77f7a-f95f-47a5-8993-3d1d3e89a1ba24.predictions.txt\n",
      "   Log:ON\n",
      "--------------------\n",
      "Thu Dec 12 18:25:15 2019: Reading test data ... \n",
      "Thu Dec 12 18:25:15 2019: Predicting ... \n",
      "elapsed: 0.036623\n",
      "/tmp/rgf/69a77f7a-f95f-47a5-8993-3d1d3e89a1ba24.predictions.txt: /tmp/rgf/69a77f7a-f95f-47a5-8993-3d1d3e89a1ba24.model-05,#leaf=500,#tree=70\n",
      "Thu Dec 12 18:25:15 2019: Done ... \n",
      "\n",
      "\"train\": \n",
      "   algorithm=RGF\n",
      "   train_x_fn=/tmp/rgf/254d62c9-8180-48f7-b1d3-d9c61df2310c25.train.data.x\n",
      "   train_y_fn=/tmp/rgf/254d62c9-8180-48f7-b1d3-d9c61df2310c25.train.data.y\n",
      "   Log:ON\n",
      "   model_fn_prefix=/tmp/rgf/254d62c9-8180-48f7-b1d3-d9c61df2310c25.model\n",
      "--------------------\n",
      "Thu Dec 12 18:25:15 2019: Reading training data ... \n",
      "Thu Dec 12 18:25:16 2019: Start ... #train=11273\n",
      "--------------------\n",
      "Forest-level: \n",
      "   loss=LS\n",
      "   max_leaf_forest=500\n",
      "   max_tree=250\n",
      "   opt_interval=100\n",
      "   test_interval=100\n",
      "   num_tree_search=1\n",
      "   Verbose:ON\n",
      "   memory_policy=Generous\n",
      "-------------\n",
      "Training data: 60x11273, nonzero_ratio=0.969; managed as dense data.\n",
      "-------------\n",
      "Optimization: \n",
      "   loss=LS\n",
      "   num_iteration_opt=10\n",
      "   reg_L2=0.1\n",
      "   opt_stepsize=0.5\n",
      "   NormalizeTarget:ON\n",
      "Tree-level: min_pop=10\n",
      "Node split: reg_L2=0.1\n",
      "--------------------\n",
      "Thu Dec 12 18:25:16 2019: Calling optimizer with 32 trees and 100 leaves\n",
      "Thu Dec 12 18:25:17 2019: Writing model: seq#=1\n",
      "Thu Dec 12 18:25:17 2019: Calling optimizer with 47 trees and 200 leaves\n",
      "Thu Dec 12 18:25:17 2019: Writing model: seq#=2\n",
      "Thu Dec 12 18:25:18 2019: Calling optimizer with 58 trees and 300 leaves\n",
      "Thu Dec 12 18:25:18 2019: Writing model: seq#=3\n",
      "Thu Dec 12 18:25:19 2019: Calling optimizer with 68 trees and 400 leaves\n",
      "Thu Dec 12 18:25:19 2019: Writing model: seq#=4\n",
      "Thu Dec 12 18:25:19 2019: AzRgforest: #leaf reached max\n",
      "Thu Dec 12 18:25:19 2019: Calling optimizer with 74 trees and 500 leaves\n",
      "Thu Dec 12 18:25:19 2019: Writing model: seq#=5\n",
      "\n",
      "Generated 5 model file(s): \n",
      "/tmp/rgf/254d62c9-8180-48f7-b1d3-d9c61df2310c25.model-01\n",
      "/tmp/rgf/254d62c9-8180-48f7-b1d3-d9c61df2310c25.model-02\n",
      "/tmp/rgf/254d62c9-8180-48f7-b1d3-d9c61df2310c25.model-03\n",
      "/tmp/rgf/254d62c9-8180-48f7-b1d3-d9c61df2310c25.model-04\n",
      "/tmp/rgf/254d62c9-8180-48f7-b1d3-d9c61df2310c25.model-05\n",
      "\n",
      "Thu Dec 12 18:25:19 2019: Done ... \n",
      "elapsed: 3.4969\n",
      "\n",
      "\"predict\": \n",
      "   model_fn=/tmp/rgf/254d62c9-8180-48f7-b1d3-d9c61df2310c25.model-05\n",
      "   test_x_fn=/tmp/rgf/254d62c9-8180-48f7-b1d3-d9c61df2310c25.test.data.x\n",
      "   prediction_fn=/tmp/rgf/254d62c9-8180-48f7-b1d3-d9c61df2310c25.predictions.txt\n",
      "   Log:ON\n",
      "--------------------\n",
      "Thu Dec 12 18:25:19 2019: Reading test data ... \n",
      "Thu Dec 12 18:25:19 2019: Predicting ... \n",
      "elapsed: 0.014078\n",
      "/tmp/rgf/254d62c9-8180-48f7-b1d3-d9c61df2310c25.predictions.txt: /tmp/rgf/254d62c9-8180-48f7-b1d3-d9c61df2310c25.model-05,#leaf=500,#tree=74\n",
      "Thu Dec 12 18:25:20 2019: Done ... \n",
      "\n",
      "\"predict\": \n",
      "   model_fn=/tmp/rgf/254d62c9-8180-48f7-b1d3-d9c61df2310c25.model-05\n",
      "   test_x_fn=/tmp/rgf/254d62c9-8180-48f7-b1d3-d9c61df2310c25.test.data.x\n",
      "   prediction_fn=/tmp/rgf/254d62c9-8180-48f7-b1d3-d9c61df2310c25.predictions.txt\n",
      "   Log:ON\n",
      "--------------------\n",
      "Thu Dec 12 18:25:20 2019: Reading test data ... \n",
      "Thu Dec 12 18:25:20 2019: Predicting ... \n",
      "elapsed: 0.037878\n",
      "/tmp/rgf/254d62c9-8180-48f7-b1d3-d9c61df2310c25.predictions.txt: /tmp/rgf/254d62c9-8180-48f7-b1d3-d9c61df2310c25.model-05,#leaf=500,#tree=74\n",
      "Thu Dec 12 18:25:20 2019: Done ... \n",
      "\n",
      "\"train\": \n",
      "   algorithm=RGF\n",
      "   train_x_fn=/tmp/rgf/72eeebdc-0dcc-49ae-b901-ec7b67b3adca26.train.data.x\n",
      "   train_y_fn=/tmp/rgf/72eeebdc-0dcc-49ae-b901-ec7b67b3adca26.train.data.y\n",
      "   Log:ON\n",
      "   model_fn_prefix=/tmp/rgf/72eeebdc-0dcc-49ae-b901-ec7b67b3adca26.model\n",
      "--------------------\n",
      "Thu Dec 12 18:25:21 2019: Reading training data ... \n",
      "Thu Dec 12 18:25:21 2019: Start ... #train=11279\n",
      "--------------------\n",
      "Forest-level: \n",
      "   loss=LS\n",
      "   max_leaf_forest=500\n",
      "   max_tree=250\n",
      "   opt_interval=100\n",
      "   test_interval=100\n",
      "   num_tree_search=1\n",
      "   Verbose:ON\n",
      "   memory_policy=Generous\n",
      "-------------\n",
      "Training data: 60x11279, nonzero_ratio=0.9689; managed as dense data.\n",
      "-------------\n",
      "Optimization: \n",
      "   loss=LS\n",
      "   num_iteration_opt=10\n",
      "   reg_L2=0.1\n",
      "   opt_stepsize=0.5\n",
      "   NormalizeTarget:ON\n",
      "Tree-level: min_pop=10\n",
      "Node split: reg_L2=0.1\n",
      "--------------------\n",
      "Thu Dec 12 18:25:22 2019: Calling optimizer with 29 trees and 100 leaves\n",
      "Thu Dec 12 18:25:22 2019: Writing model: seq#=1\n",
      "Thu Dec 12 18:25:23 2019: Calling optimizer with 46 trees and 200 leaves\n",
      "Thu Dec 12 18:25:23 2019: Writing model: seq#=2\n",
      "Thu Dec 12 18:25:23 2019: Calling optimizer with 54 trees and 300 leaves\n",
      "Thu Dec 12 18:25:23 2019: Writing model: seq#=3\n",
      "Thu Dec 12 18:25:24 2019: Calling optimizer with 63 trees and 400 leaves\n",
      "Thu Dec 12 18:25:24 2019: Writing model: seq#=4\n",
      "Thu Dec 12 18:25:25 2019: AzRgforest: #leaf reached max\n",
      "Thu Dec 12 18:25:25 2019: Calling optimizer with 70 trees and 500 leaves\n",
      "Thu Dec 12 18:25:25 2019: Writing model: seq#=5\n",
      "\n",
      "Generated 5 model file(s): \n",
      "/tmp/rgf/72eeebdc-0dcc-49ae-b901-ec7b67b3adca26.model-01\n",
      "/tmp/rgf/72eeebdc-0dcc-49ae-b901-ec7b67b3adca26.model-02\n",
      "/tmp/rgf/72eeebdc-0dcc-49ae-b901-ec7b67b3adca26.model-03\n",
      "/tmp/rgf/72eeebdc-0dcc-49ae-b901-ec7b67b3adca26.model-04\n",
      "/tmp/rgf/72eeebdc-0dcc-49ae-b901-ec7b67b3adca26.model-05\n",
      "\n",
      "Thu Dec 12 18:25:25 2019: Done ... \n",
      "elapsed: 3.5936\n",
      "\n",
      "\"predict\": \n",
      "   model_fn=/tmp/rgf/72eeebdc-0dcc-49ae-b901-ec7b67b3adca26.model-05\n",
      "   test_x_fn=/tmp/rgf/72eeebdc-0dcc-49ae-b901-ec7b67b3adca26.test.data.x\n",
      "   prediction_fn=/tmp/rgf/72eeebdc-0dcc-49ae-b901-ec7b67b3adca26.predictions.txt\n",
      "   Log:ON\n",
      "--------------------\n",
      "Thu Dec 12 18:25:25 2019: Reading test data ... \n",
      "Thu Dec 12 18:25:25 2019: Predicting ... \n",
      "elapsed: 0.012686\n",
      "/tmp/rgf/72eeebdc-0dcc-49ae-b901-ec7b67b3adca26.predictions.txt: /tmp/rgf/72eeebdc-0dcc-49ae-b901-ec7b67b3adca26.model-05,#leaf=500,#tree=70\n",
      "Thu Dec 12 18:25:25 2019: Done ... \n",
      "\n",
      "\"predict\": \n",
      "   model_fn=/tmp/rgf/72eeebdc-0dcc-49ae-b901-ec7b67b3adca26.model-05\n",
      "   test_x_fn=/tmp/rgf/72eeebdc-0dcc-49ae-b901-ec7b67b3adca26.test.data.x\n",
      "   prediction_fn=/tmp/rgf/72eeebdc-0dcc-49ae-b901-ec7b67b3adca26.predictions.txt\n",
      "   Log:ON\n",
      "--------------------\n",
      "Thu Dec 12 18:25:25 2019: Reading test data ... \n",
      "Thu Dec 12 18:25:26 2019: Predicting ... \n",
      "elapsed: 0.036844\n",
      "/tmp/rgf/72eeebdc-0dcc-49ae-b901-ec7b67b3adca26.predictions.txt: /tmp/rgf/72eeebdc-0dcc-49ae-b901-ec7b67b3adca26.model-05,#leaf=500,#tree=70\n",
      "Thu Dec 12 18:25:26 2019: Done ... \n",
      "\n",
      "CPU times: user 5.04 s, sys: 1.4 s, total: 6.45 s\n",
      "Wall time: 27.4 s\n"
     ]
    }
   ],
   "source": [
    "%%time\n",
    "n_fold = 5\n",
    "folds = StratifiedKFold(n_splits=n_fold, shuffle=True, random_state=6666)\n",
    "oof2 = np.zeros(len(train2))\n",
    "#train2_pred = np.zeros(len(train2))\n",
    "predictions2 = np.zeros(len(test2))\n",
    "feature_importance_df2 = pd.DataFrame()\n",
    "\n",
    "\n",
    "for fold_, (trn_idx, val_idx) in enumerate(folds.split(train2, target['age_range'].values)):\n",
    "    #strLog = f'Fold {fold_ + 1} started at {time.ctime()}'\n",
    "    #print(strLog)\n",
    "\n",
    "    X_tr, X_val = train2.iloc[trn_idx][features], train2.iloc[val_idx][features]\n",
    "    y_tr, y_val = train_y[trn_idx], train_y[val_idx]\n",
    "\n",
    "\n",
    "    rgfr = rgf.RGFRegressor(verbose=True)\n",
    "    model = rgfr.fit(X_tr, y_tr)\n",
    "    oof2[val_idx] +=  model.predict(X_val)\n",
    "    #predictions\n",
    "    predictions2 += model.predict(test2[features]) / (folds.n_splits)"
   ]
  },
  {
   "cell_type": "code",
   "execution_count": 913,
   "metadata": {},
   "outputs": [
    {
     "data": {
      "text/plain": [
       "12.329143738293649"
      ]
     },
     "execution_count": 913,
     "metadata": {},
     "output_type": "execute_result"
    }
   ],
   "source": [
    "np.sqrt(mean_squared_error(train_y, oof2))\n",
    "# rgf "
   ]
  },
  {
   "cell_type": "markdown",
   "metadata": {},
   "source": [
    "# Submission"
   ]
  },
  {
   "cell_type": "code",
   "execution_count": 922,
   "metadata": {},
   "outputs": [
    {
     "name": "stdout",
     "output_type": "stream",
     "text": [
      "fold 1\n",
      "fold 2\n",
      "fold 3\n",
      "fold 4\n",
      "fold 5\n"
     ]
    },
    {
     "data": {
      "text/plain": [
       "12.184659255263048"
      ]
     },
     "execution_count": 922,
     "metadata": {},
     "output_type": "execute_result"
    }
   ],
   "source": [
    "train_stack = np.vstack([oof,oof2, oof3,oof4]).transpose()\n",
    "test_stack = np.vstack([predictions,predictions2, predictions3,predictions4]).transpose()\n",
    "\n",
    "folds_stack = RepeatedKFold(n_splits=5, n_repeats=1, random_state=6666)\n",
    "oof_stack = np.zeros(train_stack.shape[0])\n",
    "predictions_fin = np.zeros(test_stack.shape[0])\n",
    "\n",
    "for fold_, (trn_idx, val_idx) in enumerate(folds_stack.split(train_stack)):\n",
    "    print(\"fold {}\".format(fold_+1))\n",
    "    X_tr, X_val = train_stack[trn_idx], train_stack[val_idx]\n",
    "    y_tr, y_val = train_y[trn_idx], train_y[val_idx]\n",
    "    \n",
    "    clf_fin = BayesianRidge()\n",
    "    clf_fin.fit(X_tr, y_tr)\n",
    "    \n",
    "    oof_stack[val_idx] = clf_fin.predict(X_val)\n",
    "    predictions_fin += clf_fin.predict(test_stack) / 5\n",
    "    \n",
    "np.sqrt(mean_squared_error(train_y, oof_stack))\n",
    "# 12.198285507984322\n",
    "#12.184396158866482"
   ]
  },
  {
   "cell_type": "code",
   "execution_count": 628,
   "metadata": {},
   "outputs": [
    {
     "data": {
      "text/plain": [
       "12.202892143420613"
      ]
     },
     "execution_count": 628,
     "metadata": {},
     "output_type": "execute_result"
    }
   ],
   "source": [
    "np.sqrt(mean_squared_error(train_y, (oof3)))\n",
    "# rgf + lgb 12.501854735211062\n",
    "# lgb mae + rmse :12.204637754527873"
   ]
  },
  {
   "cell_type": "code",
   "execution_count": 349,
   "metadata": {},
   "outputs": [
    {
     "data": {
      "text/html": [
       "<div>\n",
       "<style scoped>\n",
       "    .dataframe tbody tr th:only-of-type {\n",
       "        vertical-align: middle;\n",
       "    }\n",
       "\n",
       "    .dataframe tbody tr th {\n",
       "        vertical-align: top;\n",
       "    }\n",
       "\n",
       "    .dataframe thead th {\n",
       "        text-align: right;\n",
       "    }\n",
       "</style>\n",
       "<table border=\"1\" class=\"dataframe\">\n",
       "  <thead>\n",
       "    <tr style=\"text-align: right;\">\n",
       "      <th></th>\n",
       "      <th>user_id</th>\n",
       "      <th>age</th>\n",
       "    </tr>\n",
       "  </thead>\n",
       "  <tbody>\n",
       "    <tr>\n",
       "      <th>0</th>\n",
       "      <td>1406160</td>\n",
       "      <td>45</td>\n",
       "    </tr>\n",
       "    <tr>\n",
       "      <th>1</th>\n",
       "      <td>1544000</td>\n",
       "      <td>45</td>\n",
       "    </tr>\n",
       "    <tr>\n",
       "      <th>2</th>\n",
       "      <td>2214470</td>\n",
       "      <td>45</td>\n",
       "    </tr>\n",
       "    <tr>\n",
       "      <th>3</th>\n",
       "      <td>2364720</td>\n",
       "      <td>45</td>\n",
       "    </tr>\n",
       "    <tr>\n",
       "      <th>4</th>\n",
       "      <td>5127600</td>\n",
       "      <td>45</td>\n",
       "    </tr>\n",
       "  </tbody>\n",
       "</table>\n",
       "</div>"
      ],
      "text/plain": [
       "   user_id  age\n",
       "0  1406160   45\n",
       "1  1544000   45\n",
       "2  2214470   45\n",
       "3  2364720   45\n",
       "4  5127600   45"
      ]
     },
     "execution_count": 349,
     "metadata": {},
     "output_type": "execute_result"
    }
   ],
   "source": [
    "sub_df.head()"
   ]
  },
  {
   "cell_type": "code",
   "execution_count": 420,
   "metadata": {},
   "outputs": [
    {
     "data": {
      "text/plain": [
       "array([49.26893402, 48.22936296, 41.77657773, ..., 45.75210964,\n",
       "       53.59621789, 45.39428571])"
      ]
     },
     "execution_count": 420,
     "metadata": {},
     "output_type": "execute_result"
    }
   ],
   "source": [
    "predictions"
   ]
  },
  {
   "cell_type": "code",
   "execution_count": 923,
   "metadata": {},
   "outputs": [],
   "source": [
    "sub_df['age'] = predictions_fin"
   ]
  },
  {
   "cell_type": "code",
   "execution_count": 924,
   "metadata": {},
   "outputs": [
    {
     "name": "stdout",
     "output_type": "stream",
     "text": [
      "CPU times: user 112 ms, sys: 8 ms, total: 120 ms\n",
      "Wall time: 29.5 ms\n"
     ]
    }
   ],
   "source": [
    "%%time\n",
    "dt = datetime.now().strftime(\"%Y%m%d_%H:%M\")\n",
    "sub_df.to_csv(f'{SUBPATH}/sub_stack'+dt+'_v08.csv', index=False)"
   ]
  }
 ],
 "metadata": {
  "kernelspec": {
   "display_name": "Python 3",
   "language": "python",
   "name": "python3"
  },
  "language_info": {
   "codemirror_mode": {
    "name": "ipython",
    "version": 3
   },
   "file_extension": ".py",
   "mimetype": "text/x-python",
   "name": "python",
   "nbconvert_exporter": "python",
   "pygments_lexer": "ipython3",
   "version": "3.7.5"
  },
  "toc": {
   "base_numbering": 1,
   "nav_menu": {},
   "number_sections": true,
   "sideBar": true,
   "skip_h1_title": false,
   "title_cell": "Table of Contents",
   "title_sidebar": "Contents",
   "toc_cell": false,
   "toc_position": {
    "height": "calc(100% - 180px)",
    "left": "10px",
    "top": "150px",
    "width": "256px"
   },
   "toc_section_display": true,
   "toc_window_display": true
  }
 },
 "nbformat": 4,
 "nbformat_minor": 2
}
